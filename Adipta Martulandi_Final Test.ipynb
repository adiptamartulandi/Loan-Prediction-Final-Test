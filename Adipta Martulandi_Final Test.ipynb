{
 "cells": [
  {
   "cell_type": "markdown",
   "metadata": {},
   "source": [
    "# 1. Import library pandas dan Decision Tree"
   ]
  },
  {
   "cell_type": "code",
   "execution_count": 1,
   "metadata": {},
   "outputs": [],
   "source": [
    "import pandas as pd\n",
    "from sklearn.tree import DecisionTreeClassifier"
   ]
  },
  {
   "cell_type": "markdown",
   "metadata": {},
   "source": [
    "# 2. Library untuk visualisasi di Python"
   ]
  },
  {
   "cell_type": "code",
   "execution_count": 2,
   "metadata": {},
   "outputs": [],
   "source": [
    "import matplotlib.pyplot as plt\n",
    "import seaborn as sns"
   ]
  },
  {
   "cell_type": "markdown",
   "metadata": {},
   "source": [
    "# 3. Import loan_data.csv.\n",
    "\n",
    "- Identifikasi tipe data dari masing-masing variable.\n",
    "- Tampilkan 5 baris pertama dan tampilkan informasi summary statistics-nya."
   ]
  },
  {
   "cell_type": "code",
   "execution_count": 3,
   "metadata": {},
   "outputs": [],
   "source": [
    "#Import data\n",
    "df = pd.read_csv('loan_data.csv')"
   ]
  },
  {
   "cell_type": "code",
   "execution_count": 4,
   "metadata": {},
   "outputs": [
    {
     "data": {
      "text/plain": [
       "credit.policy          int64\n",
       "purpose               object\n",
       "int.rate             float64\n",
       "installment          float64\n",
       "log.annual.inc       float64\n",
       "dti                  float64\n",
       "fico                   int64\n",
       "days.with.cr.line    float64\n",
       "revol.bal              int64\n",
       "revol.util           float64\n",
       "inq.last.6mths         int64\n",
       "delinq.2yrs            int64\n",
       "pub.rec                int64\n",
       "not.fully.paid         int64\n",
       "dtype: object"
      ]
     },
     "execution_count": 4,
     "metadata": {},
     "output_type": "execute_result"
    }
   ],
   "source": [
    "#tipe data setiap features\n",
    "df.dtypes"
   ]
  },
  {
   "cell_type": "code",
   "execution_count": 5,
   "metadata": {},
   "outputs": [
    {
     "name": "stdout",
     "output_type": "stream",
     "text": [
      "<class 'pandas.core.frame.DataFrame'>\n",
      "RangeIndex: 9578 entries, 0 to 9577\n",
      "Data columns (total 14 columns):\n",
      "credit.policy        9578 non-null int64\n",
      "purpose              9578 non-null object\n",
      "int.rate             9578 non-null float64\n",
      "installment          9578 non-null float64\n",
      "log.annual.inc       9578 non-null float64\n",
      "dti                  9578 non-null float64\n",
      "fico                 9578 non-null int64\n",
      "days.with.cr.line    9578 non-null float64\n",
      "revol.bal            9578 non-null int64\n",
      "revol.util           9578 non-null float64\n",
      "inq.last.6mths       9578 non-null int64\n",
      "delinq.2yrs          9578 non-null int64\n",
      "pub.rec              9578 non-null int64\n",
      "not.fully.paid       9578 non-null int64\n",
      "dtypes: float64(6), int64(7), object(1)\n",
      "memory usage: 1.0+ MB\n"
     ]
    }
   ],
   "source": [
    "#bisa juga menggunakan\n",
    "df.info()"
   ]
  },
  {
   "cell_type": "markdown",
   "metadata": {},
   "source": [
    "- dari informasi diatas dapat dilihat bahwa ada 13 kolom yang tipe datanya numerikal dan 1 yang tipe datanya object atau kategorikal."
   ]
  },
  {
   "cell_type": "code",
   "execution_count": 6,
   "metadata": {},
   "outputs": [
    {
     "data": {
      "text/html": [
       "<div>\n",
       "<style scoped>\n",
       "    .dataframe tbody tr th:only-of-type {\n",
       "        vertical-align: middle;\n",
       "    }\n",
       "\n",
       "    .dataframe tbody tr th {\n",
       "        vertical-align: top;\n",
       "    }\n",
       "\n",
       "    .dataframe thead th {\n",
       "        text-align: right;\n",
       "    }\n",
       "</style>\n",
       "<table border=\"1\" class=\"dataframe\">\n",
       "  <thead>\n",
       "    <tr style=\"text-align: right;\">\n",
       "      <th></th>\n",
       "      <th>credit.policy</th>\n",
       "      <th>purpose</th>\n",
       "      <th>int.rate</th>\n",
       "      <th>installment</th>\n",
       "      <th>log.annual.inc</th>\n",
       "      <th>dti</th>\n",
       "      <th>fico</th>\n",
       "      <th>days.with.cr.line</th>\n",
       "      <th>revol.bal</th>\n",
       "      <th>revol.util</th>\n",
       "      <th>inq.last.6mths</th>\n",
       "      <th>delinq.2yrs</th>\n",
       "      <th>pub.rec</th>\n",
       "      <th>not.fully.paid</th>\n",
       "    </tr>\n",
       "  </thead>\n",
       "  <tbody>\n",
       "    <tr>\n",
       "      <th>0</th>\n",
       "      <td>1</td>\n",
       "      <td>debt_consolidation</td>\n",
       "      <td>0.1189</td>\n",
       "      <td>829.10</td>\n",
       "      <td>11.350407</td>\n",
       "      <td>19.48</td>\n",
       "      <td>737</td>\n",
       "      <td>5639.958333</td>\n",
       "      <td>28854</td>\n",
       "      <td>52.1</td>\n",
       "      <td>0</td>\n",
       "      <td>0</td>\n",
       "      <td>0</td>\n",
       "      <td>0</td>\n",
       "    </tr>\n",
       "    <tr>\n",
       "      <th>1</th>\n",
       "      <td>1</td>\n",
       "      <td>credit_card</td>\n",
       "      <td>0.1071</td>\n",
       "      <td>228.22</td>\n",
       "      <td>11.082143</td>\n",
       "      <td>14.29</td>\n",
       "      <td>707</td>\n",
       "      <td>2760.000000</td>\n",
       "      <td>33623</td>\n",
       "      <td>76.7</td>\n",
       "      <td>0</td>\n",
       "      <td>0</td>\n",
       "      <td>0</td>\n",
       "      <td>0</td>\n",
       "    </tr>\n",
       "    <tr>\n",
       "      <th>2</th>\n",
       "      <td>1</td>\n",
       "      <td>debt_consolidation</td>\n",
       "      <td>0.1357</td>\n",
       "      <td>366.86</td>\n",
       "      <td>10.373491</td>\n",
       "      <td>11.63</td>\n",
       "      <td>682</td>\n",
       "      <td>4710.000000</td>\n",
       "      <td>3511</td>\n",
       "      <td>25.6</td>\n",
       "      <td>1</td>\n",
       "      <td>0</td>\n",
       "      <td>0</td>\n",
       "      <td>0</td>\n",
       "    </tr>\n",
       "    <tr>\n",
       "      <th>3</th>\n",
       "      <td>1</td>\n",
       "      <td>debt_consolidation</td>\n",
       "      <td>0.1008</td>\n",
       "      <td>162.34</td>\n",
       "      <td>11.350407</td>\n",
       "      <td>8.10</td>\n",
       "      <td>712</td>\n",
       "      <td>2699.958333</td>\n",
       "      <td>33667</td>\n",
       "      <td>73.2</td>\n",
       "      <td>1</td>\n",
       "      <td>0</td>\n",
       "      <td>0</td>\n",
       "      <td>0</td>\n",
       "    </tr>\n",
       "    <tr>\n",
       "      <th>4</th>\n",
       "      <td>1</td>\n",
       "      <td>credit_card</td>\n",
       "      <td>0.1426</td>\n",
       "      <td>102.92</td>\n",
       "      <td>11.299732</td>\n",
       "      <td>14.97</td>\n",
       "      <td>667</td>\n",
       "      <td>4066.000000</td>\n",
       "      <td>4740</td>\n",
       "      <td>39.5</td>\n",
       "      <td>0</td>\n",
       "      <td>1</td>\n",
       "      <td>0</td>\n",
       "      <td>0</td>\n",
       "    </tr>\n",
       "  </tbody>\n",
       "</table>\n",
       "</div>"
      ],
      "text/plain": [
       "   credit.policy             purpose  int.rate  installment  log.annual.inc  \\\n",
       "0              1  debt_consolidation    0.1189       829.10       11.350407   \n",
       "1              1         credit_card    0.1071       228.22       11.082143   \n",
       "2              1  debt_consolidation    0.1357       366.86       10.373491   \n",
       "3              1  debt_consolidation    0.1008       162.34       11.350407   \n",
       "4              1         credit_card    0.1426       102.92       11.299732   \n",
       "\n",
       "     dti  fico  days.with.cr.line  revol.bal  revol.util  inq.last.6mths  \\\n",
       "0  19.48   737        5639.958333      28854        52.1               0   \n",
       "1  14.29   707        2760.000000      33623        76.7               0   \n",
       "2  11.63   682        4710.000000       3511        25.6               1   \n",
       "3   8.10   712        2699.958333      33667        73.2               1   \n",
       "4  14.97   667        4066.000000       4740        39.5               0   \n",
       "\n",
       "   delinq.2yrs  pub.rec  not.fully.paid  \n",
       "0            0        0               0  \n",
       "1            0        0               0  \n",
       "2            0        0               0  \n",
       "3            0        0               0  \n",
       "4            1        0               0  "
      ]
     },
     "execution_count": 6,
     "metadata": {},
     "output_type": "execute_result"
    }
   ],
   "source": [
    "#5 baris pertama\n",
    "df.head()"
   ]
  },
  {
   "cell_type": "code",
   "execution_count": 7,
   "metadata": {},
   "outputs": [
    {
     "data": {
      "text/html": [
       "<div>\n",
       "<style scoped>\n",
       "    .dataframe tbody tr th:only-of-type {\n",
       "        vertical-align: middle;\n",
       "    }\n",
       "\n",
       "    .dataframe tbody tr th {\n",
       "        vertical-align: top;\n",
       "    }\n",
       "\n",
       "    .dataframe thead th {\n",
       "        text-align: right;\n",
       "    }\n",
       "</style>\n",
       "<table border=\"1\" class=\"dataframe\">\n",
       "  <thead>\n",
       "    <tr style=\"text-align: right;\">\n",
       "      <th></th>\n",
       "      <th>credit.policy</th>\n",
       "      <th>int.rate</th>\n",
       "      <th>installment</th>\n",
       "      <th>log.annual.inc</th>\n",
       "      <th>dti</th>\n",
       "      <th>fico</th>\n",
       "      <th>days.with.cr.line</th>\n",
       "      <th>revol.bal</th>\n",
       "      <th>revol.util</th>\n",
       "      <th>inq.last.6mths</th>\n",
       "      <th>delinq.2yrs</th>\n",
       "      <th>pub.rec</th>\n",
       "      <th>not.fully.paid</th>\n",
       "    </tr>\n",
       "  </thead>\n",
       "  <tbody>\n",
       "    <tr>\n",
       "      <th>count</th>\n",
       "      <td>9578.000000</td>\n",
       "      <td>9578.000000</td>\n",
       "      <td>9578.000000</td>\n",
       "      <td>9578.000000</td>\n",
       "      <td>9578.000000</td>\n",
       "      <td>9578.000000</td>\n",
       "      <td>9578.000000</td>\n",
       "      <td>9.578000e+03</td>\n",
       "      <td>9578.000000</td>\n",
       "      <td>9578.000000</td>\n",
       "      <td>9578.000000</td>\n",
       "      <td>9578.000000</td>\n",
       "      <td>9578.000000</td>\n",
       "    </tr>\n",
       "    <tr>\n",
       "      <th>mean</th>\n",
       "      <td>0.804970</td>\n",
       "      <td>0.122640</td>\n",
       "      <td>319.089413</td>\n",
       "      <td>10.932117</td>\n",
       "      <td>12.606679</td>\n",
       "      <td>710.846314</td>\n",
       "      <td>4560.767197</td>\n",
       "      <td>1.691396e+04</td>\n",
       "      <td>46.799236</td>\n",
       "      <td>1.577469</td>\n",
       "      <td>0.163708</td>\n",
       "      <td>0.062122</td>\n",
       "      <td>0.160054</td>\n",
       "    </tr>\n",
       "    <tr>\n",
       "      <th>std</th>\n",
       "      <td>0.396245</td>\n",
       "      <td>0.026847</td>\n",
       "      <td>207.071301</td>\n",
       "      <td>0.614813</td>\n",
       "      <td>6.883970</td>\n",
       "      <td>37.970537</td>\n",
       "      <td>2496.930377</td>\n",
       "      <td>3.375619e+04</td>\n",
       "      <td>29.014417</td>\n",
       "      <td>2.200245</td>\n",
       "      <td>0.546215</td>\n",
       "      <td>0.262126</td>\n",
       "      <td>0.366676</td>\n",
       "    </tr>\n",
       "    <tr>\n",
       "      <th>min</th>\n",
       "      <td>0.000000</td>\n",
       "      <td>0.060000</td>\n",
       "      <td>15.670000</td>\n",
       "      <td>7.547502</td>\n",
       "      <td>0.000000</td>\n",
       "      <td>612.000000</td>\n",
       "      <td>178.958333</td>\n",
       "      <td>0.000000e+00</td>\n",
       "      <td>0.000000</td>\n",
       "      <td>0.000000</td>\n",
       "      <td>0.000000</td>\n",
       "      <td>0.000000</td>\n",
       "      <td>0.000000</td>\n",
       "    </tr>\n",
       "    <tr>\n",
       "      <th>25%</th>\n",
       "      <td>1.000000</td>\n",
       "      <td>0.103900</td>\n",
       "      <td>163.770000</td>\n",
       "      <td>10.558414</td>\n",
       "      <td>7.212500</td>\n",
       "      <td>682.000000</td>\n",
       "      <td>2820.000000</td>\n",
       "      <td>3.187000e+03</td>\n",
       "      <td>22.600000</td>\n",
       "      <td>0.000000</td>\n",
       "      <td>0.000000</td>\n",
       "      <td>0.000000</td>\n",
       "      <td>0.000000</td>\n",
       "    </tr>\n",
       "    <tr>\n",
       "      <th>50%</th>\n",
       "      <td>1.000000</td>\n",
       "      <td>0.122100</td>\n",
       "      <td>268.950000</td>\n",
       "      <td>10.928884</td>\n",
       "      <td>12.665000</td>\n",
       "      <td>707.000000</td>\n",
       "      <td>4139.958333</td>\n",
       "      <td>8.596000e+03</td>\n",
       "      <td>46.300000</td>\n",
       "      <td>1.000000</td>\n",
       "      <td>0.000000</td>\n",
       "      <td>0.000000</td>\n",
       "      <td>0.000000</td>\n",
       "    </tr>\n",
       "    <tr>\n",
       "      <th>75%</th>\n",
       "      <td>1.000000</td>\n",
       "      <td>0.140700</td>\n",
       "      <td>432.762500</td>\n",
       "      <td>11.291293</td>\n",
       "      <td>17.950000</td>\n",
       "      <td>737.000000</td>\n",
       "      <td>5730.000000</td>\n",
       "      <td>1.824950e+04</td>\n",
       "      <td>70.900000</td>\n",
       "      <td>2.000000</td>\n",
       "      <td>0.000000</td>\n",
       "      <td>0.000000</td>\n",
       "      <td>0.000000</td>\n",
       "    </tr>\n",
       "    <tr>\n",
       "      <th>max</th>\n",
       "      <td>1.000000</td>\n",
       "      <td>0.216400</td>\n",
       "      <td>940.140000</td>\n",
       "      <td>14.528354</td>\n",
       "      <td>29.960000</td>\n",
       "      <td>827.000000</td>\n",
       "      <td>17639.958330</td>\n",
       "      <td>1.207359e+06</td>\n",
       "      <td>119.000000</td>\n",
       "      <td>33.000000</td>\n",
       "      <td>13.000000</td>\n",
       "      <td>5.000000</td>\n",
       "      <td>1.000000</td>\n",
       "    </tr>\n",
       "  </tbody>\n",
       "</table>\n",
       "</div>"
      ],
      "text/plain": [
       "       credit.policy     int.rate  installment  log.annual.inc          dti  \\\n",
       "count    9578.000000  9578.000000  9578.000000     9578.000000  9578.000000   \n",
       "mean        0.804970     0.122640   319.089413       10.932117    12.606679   \n",
       "std         0.396245     0.026847   207.071301        0.614813     6.883970   \n",
       "min         0.000000     0.060000    15.670000        7.547502     0.000000   \n",
       "25%         1.000000     0.103900   163.770000       10.558414     7.212500   \n",
       "50%         1.000000     0.122100   268.950000       10.928884    12.665000   \n",
       "75%         1.000000     0.140700   432.762500       11.291293    17.950000   \n",
       "max         1.000000     0.216400   940.140000       14.528354    29.960000   \n",
       "\n",
       "              fico  days.with.cr.line     revol.bal   revol.util  \\\n",
       "count  9578.000000        9578.000000  9.578000e+03  9578.000000   \n",
       "mean    710.846314        4560.767197  1.691396e+04    46.799236   \n",
       "std      37.970537        2496.930377  3.375619e+04    29.014417   \n",
       "min     612.000000         178.958333  0.000000e+00     0.000000   \n",
       "25%     682.000000        2820.000000  3.187000e+03    22.600000   \n",
       "50%     707.000000        4139.958333  8.596000e+03    46.300000   \n",
       "75%     737.000000        5730.000000  1.824950e+04    70.900000   \n",
       "max     827.000000       17639.958330  1.207359e+06   119.000000   \n",
       "\n",
       "       inq.last.6mths  delinq.2yrs      pub.rec  not.fully.paid  \n",
       "count     9578.000000  9578.000000  9578.000000     9578.000000  \n",
       "mean         1.577469     0.163708     0.062122        0.160054  \n",
       "std          2.200245     0.546215     0.262126        0.366676  \n",
       "min          0.000000     0.000000     0.000000        0.000000  \n",
       "25%          0.000000     0.000000     0.000000        0.000000  \n",
       "50%          1.000000     0.000000     0.000000        0.000000  \n",
       "75%          2.000000     0.000000     0.000000        0.000000  \n",
       "max         33.000000    13.000000     5.000000        1.000000  "
      ]
     },
     "execution_count": 7,
     "metadata": {},
     "output_type": "execute_result"
    }
   ],
   "source": [
    "#summary statistics\n",
    "df.describe()"
   ]
  },
  {
   "cell_type": "markdown",
   "metadata": {},
   "source": [
    "# 4. Lakukan pengecekan missing data dan duplicated-row.\n",
    "- Jika ada, sebutkan kolom apa yang ada missing data.\n",
    "- Apakah ada duplicated-row?"
   ]
  },
  {
   "cell_type": "code",
   "execution_count": 8,
   "metadata": {},
   "outputs": [
    {
     "data": {
      "text/plain": [
       "credit.policy        0\n",
       "purpose              0\n",
       "int.rate             0\n",
       "installment          0\n",
       "log.annual.inc       0\n",
       "dti                  0\n",
       "fico                 0\n",
       "days.with.cr.line    0\n",
       "revol.bal            0\n",
       "revol.util           0\n",
       "inq.last.6mths       0\n",
       "delinq.2yrs          0\n",
       "pub.rec              0\n",
       "not.fully.paid       0\n",
       "dtype: int64"
      ]
     },
     "execution_count": 8,
     "metadata": {},
     "output_type": "execute_result"
    }
   ],
   "source": [
    "#pengecekan missing values\n",
    "df.isnull().sum()"
   ]
  },
  {
   "cell_type": "markdown",
   "metadata": {},
   "source": [
    "- Ternyata data tidak ada yang missing."
   ]
  },
  {
   "cell_type": "code",
   "execution_count": 9,
   "metadata": {},
   "outputs": [
    {
     "data": {
      "text/html": [
       "<div>\n",
       "<style scoped>\n",
       "    .dataframe tbody tr th:only-of-type {\n",
       "        vertical-align: middle;\n",
       "    }\n",
       "\n",
       "    .dataframe tbody tr th {\n",
       "        vertical-align: top;\n",
       "    }\n",
       "\n",
       "    .dataframe thead th {\n",
       "        text-align: right;\n",
       "    }\n",
       "</style>\n",
       "<table border=\"1\" class=\"dataframe\">\n",
       "  <thead>\n",
       "    <tr style=\"text-align: right;\">\n",
       "      <th></th>\n",
       "      <th>credit.policy</th>\n",
       "      <th>purpose</th>\n",
       "      <th>int.rate</th>\n",
       "      <th>installment</th>\n",
       "      <th>log.annual.inc</th>\n",
       "      <th>dti</th>\n",
       "      <th>fico</th>\n",
       "      <th>days.with.cr.line</th>\n",
       "      <th>revol.bal</th>\n",
       "      <th>revol.util</th>\n",
       "      <th>inq.last.6mths</th>\n",
       "      <th>delinq.2yrs</th>\n",
       "      <th>pub.rec</th>\n",
       "      <th>not.fully.paid</th>\n",
       "    </tr>\n",
       "  </thead>\n",
       "  <tbody>\n",
       "  </tbody>\n",
       "</table>\n",
       "</div>"
      ],
      "text/plain": [
       "Empty DataFrame\n",
       "Columns: [credit.policy, purpose, int.rate, installment, log.annual.inc, dti, fico, days.with.cr.line, revol.bal, revol.util, inq.last.6mths, delinq.2yrs, pub.rec, not.fully.paid]\n",
       "Index: []"
      ]
     },
     "execution_count": 9,
     "metadata": {},
     "output_type": "execute_result"
    }
   ],
   "source": [
    "#cari cek data yang duplicate\n",
    "df[df.duplicated()==True]"
   ]
  },
  {
   "cell_type": "markdown",
   "metadata": {},
   "source": [
    "- tidak ada data yang duplikat"
   ]
  },
  {
   "cell_type": "markdown",
   "metadata": {},
   "source": [
    "# 5. Lakukan pengecekan variabel target.\n",
    "- Ada berapa kategori pada variable target?\n",
    "- Berapa proporsinya?\n",
    "- Lakukan visualisasi yang menunjukkan PROPORSI kelas target.\n",
    "***"
   ]
  },
  {
   "cell_type": "markdown",
   "metadata": {},
   "source": [
    "- Kolom target adalah not fully paid\n",
    "- not_fully_paid: indicates whether the loan was not paid back in full (the borrower either defaulted or the borrower was deemed unlikely to pay it back)."
   ]
  },
  {
   "cell_type": "code",
   "execution_count": 10,
   "metadata": {},
   "outputs": [
    {
     "data": {
      "text/plain": [
       "array([0, 1], dtype=int64)"
      ]
     },
     "execution_count": 10,
     "metadata": {},
     "output_type": "execute_result"
    }
   ],
   "source": [
    "#kategori di variabel target\n",
    "df['not.fully.paid'].unique()\n",
    "\n",
    "#ada dua kategori yaitu 0 dan 1"
   ]
  },
  {
   "cell_type": "code",
   "execution_count": 11,
   "metadata": {},
   "outputs": [
    {
     "name": "stdout",
     "output_type": "stream",
     "text": [
      "Positive examples = 8045\n",
      "Negative examples = 1533\n"
     ]
    },
    {
     "data": {
      "image/png": "[encoded data removed]",
      "text/plain": [
       "<Figure size 576x432 with 1 Axes>"
      ]
     },
     "metadata": {
      "needs_background": "light"
     },
     "output_type": "display_data"
    }
   ],
   "source": [
    "#cari data yang positive dan negative\n",
    "#dan juga proporsinya\n",
    "neg = df[df[\"not.fully.paid\"] == 1].shape[0]\n",
    "pos = df[df[\"not.fully.paid\"] == 0].shape[0]\n",
    "print(f\"Positive examples = {pos}\")\n",
    "print(f\"Negative examples = {neg}\")\n",
    "\n",
    "#visualisasi\n",
    "plt.figure(figsize=(8, 6))\n",
    "sns.countplot(df[\"not.fully.paid\"])\n",
    "plt.xticks((0, 1), [\"Paid fully\", \"Not paid fully\"])\n",
    "plt.xlabel(\"\")\n",
    "plt.ylabel(\"Count\")\n",
    "plt.title(\"Class counts\", y=1, fontdict={\"fontsize\": 20});"
   ]
  },
  {
   "cell_type": "code",
   "execution_count": 12,
   "metadata": {},
   "outputs": [
    {
     "name": "stderr",
     "output_type": "stream",
     "text": [
      "F:\\Anaconda\\envs\\pandas\\lib\\site-packages\\ipykernel_launcher.py:2: MatplotlibDeprecationWarning: Non-1D inputs to pie() are currently squeeze()d, but this behavior is deprecated since 3.1 and will be removed in 3.3; pass a 1D array instead.\n",
      "  \n"
     ]
    },
    {
     "data": {
      "image/png": "[encoded data removed]",
      "text/plain": [
       "<Figure size 432x288 with 1 Axes>"
      ]
     },
     "metadata": {},
     "output_type": "display_data"
    }
   ],
   "source": [
    "pie = pd.DataFrame(df['not.fully.paid'].value_counts())\n",
    "plt.pie(pie, autopct='%1.1f%%', labels=pie.index)\n",
    "plt.show()"
   ]
  },
  {
   "cell_type": "markdown",
   "metadata": {},
   "source": [
    "- Proporsi yang 0 merupakan yang paid fully sebesar 84%\n",
    "- sedangkan yang 1 yang not paid fully sebesar 16%."
   ]
  },
  {
   "cell_type": "markdown",
   "metadata": {},
   "source": [
    "# 6. Berapa variansi (ragam) nilai installment?"
   ]
  },
  {
   "cell_type": "code",
   "execution_count": 13,
   "metadata": {},
   "outputs": [
    {
     "data": {
      "text/plain": [
       "42878.52390484519"
      ]
     },
     "execution_count": 13,
     "metadata": {},
     "output_type": "execute_result"
    }
   ],
   "source": [
    "df['installment'].var()"
   ]
  },
  {
   "cell_type": "markdown",
   "metadata": {},
   "source": [
    "- variansi dari installment adalah 42878"
   ]
  },
  {
   "cell_type": "markdown",
   "metadata": {},
   "source": [
    "# 7. Berapa nilai simpangan kuartil pada variable ‘installment’?"
   ]
  },
  {
   "cell_type": "code",
   "execution_count": 14,
   "metadata": {},
   "outputs": [
    {
     "name": "stdout",
     "output_type": "stream",
     "text": [
      "268.99249999999995\n"
     ]
    }
   ],
   "source": [
    "q1 = df['installment'].quantile(0.25)\n",
    "q3 = df['installment'].quantile(0.75)\n",
    "print(q3-q1)"
   ]
  },
  {
   "cell_type": "markdown",
   "metadata": {},
   "source": [
    "- nilai simpangan kuartil adalah sebesar 268"
   ]
  },
  {
   "cell_type": "markdown",
   "metadata": {},
   "source": [
    "# 8. Berapa nilai installment tertinggi untuk masing-masing tujuan pinjaman (masing-masing kategori pada variable ‘purpose’)?"
   ]
  },
  {
   "cell_type": "code",
   "execution_count": 15,
   "metadata": {},
   "outputs": [
    {
     "data": {
      "text/html": [
       "<div>\n",
       "<style scoped>\n",
       "    .dataframe tbody tr th:only-of-type {\n",
       "        vertical-align: middle;\n",
       "    }\n",
       "\n",
       "    .dataframe tbody tr th {\n",
       "        vertical-align: top;\n",
       "    }\n",
       "\n",
       "    .dataframe thead th {\n",
       "        text-align: right;\n",
       "    }\n",
       "</style>\n",
       "<table border=\"1\" class=\"dataframe\">\n",
       "  <thead>\n",
       "    <tr style=\"text-align: right;\">\n",
       "      <th></th>\n",
       "      <th>installment</th>\n",
       "    </tr>\n",
       "    <tr>\n",
       "      <th>purpose</th>\n",
       "      <th></th>\n",
       "    </tr>\n",
       "  </thead>\n",
       "  <tbody>\n",
       "    <tr>\n",
       "      <th>all_other</th>\n",
       "      <td>916.95</td>\n",
       "    </tr>\n",
       "    <tr>\n",
       "      <th>credit_card</th>\n",
       "      <td>922.42</td>\n",
       "    </tr>\n",
       "    <tr>\n",
       "      <th>debt_consolidation</th>\n",
       "      <td>940.14</td>\n",
       "    </tr>\n",
       "    <tr>\n",
       "      <th>educational</th>\n",
       "      <td>861.88</td>\n",
       "    </tr>\n",
       "    <tr>\n",
       "      <th>home_improvement</th>\n",
       "      <td>902.06</td>\n",
       "    </tr>\n",
       "    <tr>\n",
       "      <th>major_purchase</th>\n",
       "      <td>898.55</td>\n",
       "    </tr>\n",
       "    <tr>\n",
       "      <th>small_business</th>\n",
       "      <td>926.83</td>\n",
       "    </tr>\n",
       "  </tbody>\n",
       "</table>\n",
       "</div>"
      ],
      "text/plain": [
       "                    installment\n",
       "purpose                        \n",
       "all_other                916.95\n",
       "credit_card              922.42\n",
       "debt_consolidation       940.14\n",
       "educational              861.88\n",
       "home_improvement         902.06\n",
       "major_purchase           898.55\n",
       "small_business           926.83"
      ]
     },
     "execution_count": 15,
     "metadata": {},
     "output_type": "execute_result"
    }
   ],
   "source": [
    "pd.DataFrame(df.groupby(df['purpose'])['installment'].max())"
   ]
  },
  {
   "cell_type": "markdown",
   "metadata": {},
   "source": [
    "# 9. Variable ‘purpose’ menunjukkan tujuan pengajuan pinjaman.\n",
    "- Ada berapa kategori pada variable tersebut?\n",
    "- Visualisasikan frekuensi pinjaman berdasarkan tujuannya, diurutkan dari frekuensi tertinggi."
   ]
  },
  {
   "cell_type": "code",
   "execution_count": 16,
   "metadata": {
    "scrolled": true
   },
   "outputs": [
    {
     "name": "stdout",
     "output_type": "stream",
     "text": [
      "['debt_consolidation' 'credit_card' 'all_other' 'home_improvement'\n",
      " 'small_business' 'major_purchase' 'educational']\n",
      "7\n"
     ]
    }
   ],
   "source": [
    "# kategori setiap purpose\n",
    "print(df['purpose'].unique())\n",
    "print(df['purpose'].nunique())\n",
    "\n",
    "#ada 7 kategoru"
   ]
  },
  {
   "cell_type": "markdown",
   "metadata": {},
   "source": [
    "- ada 7 kategori yaitu 'debt_consolidation' 'credit_card' 'all_other' 'home_improvement' 'small_business' 'major_purchase' 'educational'"
   ]
  },
  {
   "cell_type": "code",
   "execution_count": 17,
   "metadata": {},
   "outputs": [
    {
     "data": {
      "text/plain": [
       "debt_consolidation    3957\n",
       "all_other             2331\n",
       "credit_card           1262\n",
       "home_improvement       629\n",
       "small_business         619\n",
       "major_purchase         437\n",
       "educational            343\n",
       "Name: purpose, dtype: int64"
      ]
     },
     "execution_count": 17,
     "metadata": {},
     "output_type": "execute_result"
    }
   ],
   "source": [
    "df['purpose'].value_counts()"
   ]
  },
  {
   "cell_type": "code",
   "execution_count": 18,
   "metadata": {},
   "outputs": [
    {
     "data": {
      "text/html": [
       "<div>\n",
       "<style scoped>\n",
       "    .dataframe tbody tr th:only-of-type {\n",
       "        vertical-align: middle;\n",
       "    }\n",
       "\n",
       "    .dataframe tbody tr th {\n",
       "        vertical-align: top;\n",
       "    }\n",
       "\n",
       "    .dataframe thead th {\n",
       "        text-align: right;\n",
       "    }\n",
       "</style>\n",
       "<table border=\"1\" class=\"dataframe\">\n",
       "  <thead>\n",
       "    <tr style=\"text-align: right;\">\n",
       "      <th></th>\n",
       "      <th>index</th>\n",
       "      <th>purpose</th>\n",
       "    </tr>\n",
       "  </thead>\n",
       "  <tbody>\n",
       "    <tr>\n",
       "      <th>0</th>\n",
       "      <td>debt_consolidation</td>\n",
       "      <td>3957</td>\n",
       "    </tr>\n",
       "    <tr>\n",
       "      <th>1</th>\n",
       "      <td>all_other</td>\n",
       "      <td>2331</td>\n",
       "    </tr>\n",
       "    <tr>\n",
       "      <th>2</th>\n",
       "      <td>credit_card</td>\n",
       "      <td>1262</td>\n",
       "    </tr>\n",
       "    <tr>\n",
       "      <th>3</th>\n",
       "      <td>home_improvement</td>\n",
       "      <td>629</td>\n",
       "    </tr>\n",
       "    <tr>\n",
       "      <th>4</th>\n",
       "      <td>small_business</td>\n",
       "      <td>619</td>\n",
       "    </tr>\n",
       "    <tr>\n",
       "      <th>5</th>\n",
       "      <td>major_purchase</td>\n",
       "      <td>437</td>\n",
       "    </tr>\n",
       "    <tr>\n",
       "      <th>6</th>\n",
       "      <td>educational</td>\n",
       "      <td>343</td>\n",
       "    </tr>\n",
       "  </tbody>\n",
       "</table>\n",
       "</div>"
      ],
      "text/plain": [
       "                index  purpose\n",
       "0  debt_consolidation     3957\n",
       "1           all_other     2331\n",
       "2         credit_card     1262\n",
       "3    home_improvement      629\n",
       "4      small_business      619\n",
       "5      major_purchase      437\n",
       "6         educational      343"
      ]
     },
     "execution_count": 18,
     "metadata": {},
     "output_type": "execute_result"
    }
   ],
   "source": [
    "a = pd.DataFrame(df['purpose'].value_counts()).reset_index()\n",
    "a"
   ]
  },
  {
   "cell_type": "code",
   "execution_count": 19,
   "metadata": {},
   "outputs": [
    {
     "data": {
      "text/plain": [
       "<matplotlib.axes._subplots.AxesSubplot at 0x1d8d8bf9cf8>"
      ]
     },
     "execution_count": 19,
     "metadata": {},
     "output_type": "execute_result"
    },
    {
     "data": {
      "image/png": "[encoded data removed]",
      "text/plain": [
       "<Figure size 1080x504 with 1 Axes>"
      ]
     },
     "metadata": {
      "needs_background": "light"
     },
     "output_type": "display_data"
    }
   ],
   "source": [
    "plt.figure(figsize=(15,7))\n",
    "sns.barplot(x=a['index'], y=a['purpose'])"
   ]
  },
  {
   "cell_type": "markdown",
   "metadata": {},
   "source": [
    "# 10. Apakah variable ‘fico’ merupakan predictor yang potensial untuk memprediksi target? Jelaskan argumen anda.\n",
    "- Hint: Visualisasikan distribusi ‘fico’ terhadap target."
   ]
  },
  {
   "cell_type": "code",
   "execution_count": 20,
   "metadata": {},
   "outputs": [
    {
     "data": {
      "text/html": [
       "<style  type=\"text/css\" >\n",
       "    #T_c9b60ad0_044a_11ea_99ca_309c23131503row0_col0 {\n",
       "            background-color:  #023858;\n",
       "            color:  #f1f1f1;\n",
       "        }    #T_c9b60ad0_044a_11ea_99ca_309c23131503row0_col1 {\n",
       "            background-color:  #d2d2e7;\n",
       "            color:  #000000;\n",
       "        }    #T_c9b60ad0_044a_11ea_99ca_309c23131503row0_col2 {\n",
       "            background-color:  #f2ecf5;\n",
       "            color:  #000000;\n",
       "        }    #T_c9b60ad0_044a_11ea_99ca_309c23131503row0_col3 {\n",
       "            background-color:  #f2ecf5;\n",
       "            color:  #000000;\n",
       "        }    #T_c9b60ad0_044a_11ea_99ca_309c23131503row0_col4 {\n",
       "            background-color:  #ede8f3;\n",
       "            color:  #000000;\n",
       "        }    #T_c9b60ad0_044a_11ea_99ca_309c23131503row0_col5 {\n",
       "            background-color:  #3991c1;\n",
       "            color:  #000000;\n",
       "        }    #T_c9b60ad0_044a_11ea_99ca_309c23131503row0_col6 {\n",
       "            background-color:  #dcdaeb;\n",
       "            color:  #000000;\n",
       "        }    #T_c9b60ad0_044a_11ea_99ca_309c23131503row0_col7 {\n",
       "            background-color:  #fff7fb;\n",
       "            color:  #000000;\n",
       "        }    #T_c9b60ad0_044a_11ea_99ca_309c23131503row0_col8 {\n",
       "            background-color:  #c5cce3;\n",
       "            color:  #000000;\n",
       "        }    #T_c9b60ad0_044a_11ea_99ca_309c23131503row0_col9 {\n",
       "            background-color:  #fff7fb;\n",
       "            color:  #000000;\n",
       "        }    #T_c9b60ad0_044a_11ea_99ca_309c23131503row0_col10 {\n",
       "            background-color:  #eee8f3;\n",
       "            color:  #000000;\n",
       "        }    #T_c9b60ad0_044a_11ea_99ca_309c23131503row0_col11 {\n",
       "            background-color:  #f3edf5;\n",
       "            color:  #000000;\n",
       "        }    #T_c9b60ad0_044a_11ea_99ca_309c23131503row0_col12 {\n",
       "            background-color:  #fff7fb;\n",
       "            color:  #000000;\n",
       "        }    #T_c9b60ad0_044a_11ea_99ca_309c23131503row1_col0 {\n",
       "            background-color:  #e5e1ef;\n",
       "            color:  #000000;\n",
       "        }    #T_c9b60ad0_044a_11ea_99ca_309c23131503row1_col1 {\n",
       "            background-color:  #023858;\n",
       "            color:  #f1f1f1;\n",
       "        }    #T_c9b60ad0_044a_11ea_99ca_309c23131503row1_col2 {\n",
       "            background-color:  #c0c9e2;\n",
       "            color:  #000000;\n",
       "        }    #T_c9b60ad0_044a_11ea_99ca_309c23131503row1_col3 {\n",
       "            background-color:  #f0eaf4;\n",
       "            color:  #000000;\n",
       "        }    #T_c9b60ad0_044a_11ea_99ca_309c23131503row1_col4 {\n",
       "            background-color:  #a7bddb;\n",
       "            color:  #000000;\n",
       "        }    #T_c9b60ad0_044a_11ea_99ca_309c23131503row1_col5 {\n",
       "            background-color:  #fff7fb;\n",
       "            color:  #000000;\n",
       "        }    #T_c9b60ad0_044a_11ea_99ca_309c23131503row1_col6 {\n",
       "            background-color:  #fff7fb;\n",
       "            color:  #000000;\n",
       "        }    #T_c9b60ad0_044a_11ea_99ca_309c23131503row1_col7 {\n",
       "            background-color:  #d3d4e7;\n",
       "            color:  #000000;\n",
       "        }    #T_c9b60ad0_044a_11ea_99ca_309c23131503row1_col8 {\n",
       "            background-color:  #2a88bc;\n",
       "            color:  #000000;\n",
       "        }    #T_c9b60ad0_044a_11ea_99ca_309c23131503row1_col9 {\n",
       "            background-color:  #7bacd1;\n",
       "            color:  #000000;\n",
       "        }    #T_c9b60ad0_044a_11ea_99ca_309c23131503row1_col10 {\n",
       "            background-color:  #bdc8e1;\n",
       "            color:  #000000;\n",
       "        }    #T_c9b60ad0_044a_11ea_99ca_309c23131503row1_col11 {\n",
       "            background-color:  #d9d8ea;\n",
       "            color:  #000000;\n",
       "        }    #T_c9b60ad0_044a_11ea_99ca_309c23131503row1_col12 {\n",
       "            background-color:  #c8cde4;\n",
       "            color:  #000000;\n",
       "        }    #T_c9b60ad0_044a_11ea_99ca_309c23131503row2_col0 {\n",
       "            background-color:  #a1bbda;\n",
       "            color:  #000000;\n",
       "        }    #T_c9b60ad0_044a_11ea_99ca_309c23131503row2_col1 {\n",
       "            background-color:  #4e9ac6;\n",
       "            color:  #000000;\n",
       "        }    #T_c9b60ad0_044a_11ea_99ca_309c23131503row2_col2 {\n",
       "            background-color:  #023858;\n",
       "            color:  #f1f1f1;\n",
       "        }    #T_c9b60ad0_044a_11ea_99ca_309c23131503row2_col3 {\n",
       "            background-color:  #7eadd1;\n",
       "            color:  #000000;\n",
       "        }    #T_c9b60ad0_044a_11ea_99ca_309c23131503row2_col4 {\n",
       "            background-color:  #d3d4e7;\n",
       "            color:  #000000;\n",
       "        }    #T_c9b60ad0_044a_11ea_99ca_309c23131503row2_col5 {\n",
       "            background-color:  #81aed2;\n",
       "            color:  #000000;\n",
       "        }    #T_c9b60ad0_044a_11ea_99ca_309c23131503row2_col6 {\n",
       "            background-color:  #c9cee4;\n",
       "            color:  #000000;\n",
       "        }    #T_c9b60ad0_044a_11ea_99ca_309c23131503row2_col7 {\n",
       "            background-color:  #adc1dd;\n",
       "            color:  #000000;\n",
       "        }    #T_c9b60ad0_044a_11ea_99ca_309c23131503row2_col8 {\n",
       "            background-color:  #9ab8d8;\n",
       "            color:  #000000;\n",
       "        }    #T_c9b60ad0_044a_11ea_99ca_309c23131503row2_col9 {\n",
       "            background-color:  #b1c2de;\n",
       "            color:  #000000;\n",
       "        }    #T_c9b60ad0_044a_11ea_99ca_309c23131503row2_col10 {\n",
       "            background-color:  #e1dfed;\n",
       "            color:  #000000;\n",
       "        }    #T_c9b60ad0_044a_11ea_99ca_309c23131503row2_col11 {\n",
       "            background-color:  #f0eaf4;\n",
       "            color:  #000000;\n",
       "        }    #T_c9b60ad0_044a_11ea_99ca_309c23131503row2_col12 {\n",
       "            background-color:  #e0deed;\n",
       "            color:  #000000;\n",
       "        }    #T_c9b60ad0_044a_11ea_99ca_309c23131503row3_col0 {\n",
       "            background-color:  #a7bddb;\n",
       "            color:  #000000;\n",
       "        }    #T_c9b60ad0_044a_11ea_99ca_309c23131503row3_col1 {\n",
       "            background-color:  #88b1d4;\n",
       "            color:  #000000;\n",
       "        }    #T_c9b60ad0_044a_11ea_99ca_309c23131503row3_col2 {\n",
       "            background-color:  #81aed2;\n",
       "            color:  #000000;\n",
       "        }    #T_c9b60ad0_044a_11ea_99ca_309c23131503row3_col3 {\n",
       "            background-color:  #023858;\n",
       "            color:  #f1f1f1;\n",
       "        }    #T_c9b60ad0_044a_11ea_99ca_309c23131503row3_col4 {\n",
       "            background-color:  #e7e3f0;\n",
       "            color:  #000000;\n",
       "        }    #T_c9b60ad0_044a_11ea_99ca_309c23131503row3_col5 {\n",
       "            background-color:  #7bacd1;\n",
       "            color:  #000000;\n",
       "        }    #T_c9b60ad0_044a_11ea_99ca_309c23131503row3_col6 {\n",
       "            background-color:  #99b8d8;\n",
       "            color:  #000000;\n",
       "        }    #T_c9b60ad0_044a_11ea_99ca_309c23131503row3_col7 {\n",
       "            background-color:  #80aed2;\n",
       "            color:  #000000;\n",
       "        }    #T_c9b60ad0_044a_11ea_99ca_309c23131503row3_col8 {\n",
       "            background-color:  #a1bbda;\n",
       "            color:  #000000;\n",
       "        }    #T_c9b60ad0_044a_11ea_99ca_309c23131503row3_col9 {\n",
       "            background-color:  #a8bedc;\n",
       "            color:  #000000;\n",
       "        }    #T_c9b60ad0_044a_11ea_99ca_309c23131503row3_col10 {\n",
       "            background-color:  #dbdaeb;\n",
       "            color:  #000000;\n",
       "        }    #T_c9b60ad0_044a_11ea_99ca_309c23131503row3_col11 {\n",
       "            background-color:  #e8e4f0;\n",
       "            color:  #000000;\n",
       "        }    #T_c9b60ad0_044a_11ea_99ca_309c23131503row3_col12 {\n",
       "            background-color:  #efe9f3;\n",
       "            color:  #000000;\n",
       "        }    #T_c9b60ad0_044a_11ea_99ca_309c23131503row4_col0 {\n",
       "            background-color:  #c2cbe2;\n",
       "            color:  #000000;\n",
       "        }    #T_c9b60ad0_044a_11ea_99ca_309c23131503row4_col1 {\n",
       "            background-color:  #5ea0ca;\n",
       "            color:  #000000;\n",
       "        }    #T_c9b60ad0_044a_11ea_99ca_309c23131503row4_col2 {\n",
       "            background-color:  #f3edf5;\n",
       "            color:  #000000;\n",
       "        }    #T_c9b60ad0_044a_11ea_99ca_309c23131503row4_col3 {\n",
       "            background-color:  #fff7fb;\n",
       "            color:  #000000;\n",
       "        }    #T_c9b60ad0_044a_11ea_99ca_309c23131503row4_col4 {\n",
       "            background-color:  #023858;\n",
       "            color:  #f1f1f1;\n",
       "        }    #T_c9b60ad0_044a_11ea_99ca_309c23131503row4_col5 {\n",
       "            background-color:  #c8cde4;\n",
       "            color:  #000000;\n",
       "        }    #T_c9b60ad0_044a_11ea_99ca_309c23131503row4_col6 {\n",
       "            background-color:  #e4e1ef;\n",
       "            color:  #000000;\n",
       "        }    #T_c9b60ad0_044a_11ea_99ca_309c23131503row4_col7 {\n",
       "            background-color:  #b9c6e0;\n",
       "            color:  #000000;\n",
       "        }    #T_c9b60ad0_044a_11ea_99ca_309c23131503row4_col8 {\n",
       "            background-color:  #529bc7;\n",
       "            color:  #000000;\n",
       "        }    #T_c9b60ad0_044a_11ea_99ca_309c23131503row4_col9 {\n",
       "            background-color:  #a8bedc;\n",
       "            color:  #000000;\n",
       "        }    #T_c9b60ad0_044a_11ea_99ca_309c23131503row4_col10 {\n",
       "            background-color:  #e5e1ef;\n",
       "            color:  #000000;\n",
       "        }    #T_c9b60ad0_044a_11ea_99ca_309c23131503row4_col11 {\n",
       "            background-color:  #eae6f1;\n",
       "            color:  #000000;\n",
       "        }    #T_c9b60ad0_044a_11ea_99ca_309c23131503row4_col12 {\n",
       "            background-color:  #e2dfee;\n",
       "            color:  #000000;\n",
       "        }    #T_c9b60ad0_044a_11ea_99ca_309c23131503row5_col0 {\n",
       "            background-color:  #4e9ac6;\n",
       "            color:  #000000;\n",
       "        }    #T_c9b60ad0_044a_11ea_99ca_309c23131503row5_col1 {\n",
       "            background-color:  #fff7fb;\n",
       "            color:  #000000;\n",
       "        }    #T_c9b60ad0_044a_11ea_99ca_309c23131503row5_col2 {\n",
       "            background-color:  #eee8f3;\n",
       "            color:  #000000;\n",
       "        }    #T_c9b60ad0_044a_11ea_99ca_309c23131503row5_col3 {\n",
       "            background-color:  #e5e1ef;\n",
       "            color:  #000000;\n",
       "        }    #T_c9b60ad0_044a_11ea_99ca_309c23131503row5_col4 {\n",
       "            background-color:  #fff7fb;\n",
       "            color:  #000000;\n",
       "        }    #T_c9b60ad0_044a_11ea_99ca_309c23131503row5_col5 {\n",
       "            background-color:  #023858;\n",
       "            color:  #f1f1f1;\n",
       "        }    #T_c9b60ad0_044a_11ea_99ca_309c23131503row5_col6 {\n",
       "            background-color:  #b0c2de;\n",
       "            color:  #000000;\n",
       "        }    #T_c9b60ad0_044a_11ea_99ca_309c23131503row5_col7 {\n",
       "            background-color:  #e7e3f0;\n",
       "            color:  #000000;\n",
       "        }    #T_c9b60ad0_044a_11ea_99ca_309c23131503row5_col8 {\n",
       "            background-color:  #fff7fb;\n",
       "            color:  #000000;\n",
       "        }    #T_c9b60ad0_044a_11ea_99ca_309c23131503row5_col9 {\n",
       "            background-color:  #d5d5e8;\n",
       "            color:  #000000;\n",
       "        }    #T_c9b60ad0_044a_11ea_99ca_309c23131503row5_col10 {\n",
       "            background-color:  #fff7fb;\n",
       "            color:  #000000;\n",
       "        }    #T_c9b60ad0_044a_11ea_99ca_309c23131503row5_col11 {\n",
       "            background-color:  #fff7fb;\n",
       "            color:  #000000;\n",
       "        }    #T_c9b60ad0_044a_11ea_99ca_309c23131503row5_col12 {\n",
       "            background-color:  #fef6fb;\n",
       "            color:  #000000;\n",
       "        }    #T_c9b60ad0_044a_11ea_99ca_309c23131503row6_col0 {\n",
       "            background-color:  #97b7d7;\n",
       "            color:  #000000;\n",
       "        }    #T_c9b60ad0_044a_11ea_99ca_309c23131503row6_col1 {\n",
       "            background-color:  #b0c2de;\n",
       "            color:  #000000;\n",
       "        }    #T_c9b60ad0_044a_11ea_99ca_309c23131503row6_col2 {\n",
       "            background-color:  #d9d8ea;\n",
       "            color:  #000000;\n",
       "        }    #T_c9b60ad0_044a_11ea_99ca_309c23131503row6_col3 {\n",
       "            background-color:  #a8bedc;\n",
       "            color:  #000000;\n",
       "        }    #T_c9b60ad0_044a_11ea_99ca_309c23131503row6_col4 {\n",
       "            background-color:  #d2d2e7;\n",
       "            color:  #000000;\n",
       "        }    #T_c9b60ad0_044a_11ea_99ca_309c23131503row6_col5 {\n",
       "            background-color:  #509ac6;\n",
       "            color:  #000000;\n",
       "        }    #T_c9b60ad0_044a_11ea_99ca_309c23131503row6_col6 {\n",
       "            background-color:  #023858;\n",
       "            color:  #f1f1f1;\n",
       "        }    #T_c9b60ad0_044a_11ea_99ca_309c23131503row6_col7 {\n",
       "            background-color:  #afc1dd;\n",
       "            color:  #000000;\n",
       "        }    #T_c9b60ad0_044a_11ea_99ca_309c23131503row6_col8 {\n",
       "            background-color:  #b4c4df;\n",
       "            color:  #000000;\n",
       "        }    #T_c9b60ad0_044a_11ea_99ca_309c23131503row6_col9 {\n",
       "            background-color:  #b8c6e0;\n",
       "            color:  #000000;\n",
       "        }    #T_c9b60ad0_044a_11ea_99ca_309c23131503row6_col10 {\n",
       "            background-color:  #d2d2e7;\n",
       "            color:  #000000;\n",
       "        }    #T_c9b60ad0_044a_11ea_99ca_309c23131503row6_col11 {\n",
       "            background-color:  #dedcec;\n",
       "            color:  #000000;\n",
       "        }    #T_c9b60ad0_044a_11ea_99ca_309c23131503row6_col12 {\n",
       "            background-color:  #eee9f3;\n",
       "            color:  #000000;\n",
       "        }    #T_c9b60ad0_044a_11ea_99ca_309c23131503row7_col0 {\n",
       "            background-color:  #d5d5e8;\n",
       "            color:  #000000;\n",
       "        }    #T_c9b60ad0_044a_11ea_99ca_309c23131503row7_col1 {\n",
       "            background-color:  #80aed2;\n",
       "            color:  #000000;\n",
       "        }    #T_c9b60ad0_044a_11ea_99ca_309c23131503row7_col2 {\n",
       "            background-color:  #cdd0e5;\n",
       "            color:  #000000;\n",
       "        }    #T_c9b60ad0_044a_11ea_99ca_309c23131503row7_col3 {\n",
       "            background-color:  #9ab8d8;\n",
       "            color:  #000000;\n",
       "        }    #T_c9b60ad0_044a_11ea_99ca_309c23131503row7_col4 {\n",
       "            background-color:  #b0c2de;\n",
       "            color:  #000000;\n",
       "        }    #T_c9b60ad0_044a_11ea_99ca_309c23131503row7_col5 {\n",
       "            background-color:  #99b8d8;\n",
       "            color:  #000000;\n",
       "        }    #T_c9b60ad0_044a_11ea_99ca_309c23131503row7_col6 {\n",
       "            background-color:  #bbc7e0;\n",
       "            color:  #000000;\n",
       "        }    #T_c9b60ad0_044a_11ea_99ca_309c23131503row7_col7 {\n",
       "            background-color:  #023858;\n",
       "            color:  #f1f1f1;\n",
       "        }    #T_c9b60ad0_044a_11ea_99ca_309c23131503row7_col8 {\n",
       "            background-color:  #7bacd1;\n",
       "            color:  #000000;\n",
       "        }    #T_c9b60ad0_044a_11ea_99ca_309c23131503row7_col9 {\n",
       "            background-color:  #a9bfdc;\n",
       "            color:  #000000;\n",
       "        }    #T_c9b60ad0_044a_11ea_99ca_309c23131503row7_col10 {\n",
       "            background-color:  #e7e3f0;\n",
       "            color:  #000000;\n",
       "        }    #T_c9b60ad0_044a_11ea_99ca_309c23131503row7_col11 {\n",
       "            background-color:  #f0eaf4;\n",
       "            color:  #000000;\n",
       "        }    #T_c9b60ad0_044a_11ea_99ca_309c23131503row7_col12 {\n",
       "            background-color:  #e0dded;\n",
       "            color:  #000000;\n",
       "        }    #T_c9b60ad0_044a_11ea_99ca_309c23131503row8_col0 {\n",
       "            background-color:  #c6cce3;\n",
       "            color:  #000000;\n",
       "        }    #T_c9b60ad0_044a_11ea_99ca_309c23131503row8_col1 {\n",
       "            background-color:  #1c7fb8;\n",
       "            color:  #000000;\n",
       "        }    #T_c9b60ad0_044a_11ea_99ca_309c23131503row8_col2 {\n",
       "            background-color:  #eee9f3;\n",
       "            color:  #000000;\n",
       "        }    #T_c9b60ad0_044a_11ea_99ca_309c23131503row8_col3 {\n",
       "            background-color:  #f0eaf4;\n",
       "            color:  #000000;\n",
       "        }    #T_c9b60ad0_044a_11ea_99ca_309c23131503row8_col4 {\n",
       "            background-color:  #81aed2;\n",
       "            color:  #000000;\n",
       "        }    #T_c9b60ad0_044a_11ea_99ca_309c23131503row8_col5 {\n",
       "            background-color:  #f0eaf4;\n",
       "            color:  #000000;\n",
       "        }    #T_c9b60ad0_044a_11ea_99ca_309c23131503row8_col6 {\n",
       "            background-color:  #f2ecf5;\n",
       "            color:  #000000;\n",
       "        }    #T_c9b60ad0_044a_11ea_99ca_309c23131503row8_col7 {\n",
       "            background-color:  #b5c4df;\n",
       "            color:  #000000;\n",
       "        }    #T_c9b60ad0_044a_11ea_99ca_309c23131503row8_col8 {\n",
       "            background-color:  #023858;\n",
       "            color:  #f1f1f1;\n",
       "        }    #T_c9b60ad0_044a_11ea_99ca_309c23131503row8_col9 {\n",
       "            background-color:  #b3c3de;\n",
       "            color:  #000000;\n",
       "        }    #T_c9b60ad0_044a_11ea_99ca_309c23131503row8_col10 {\n",
       "            background-color:  #e8e4f0;\n",
       "            color:  #000000;\n",
       "        }    #T_c9b60ad0_044a_11ea_99ca_309c23131503row8_col11 {\n",
       "            background-color:  #dfddec;\n",
       "            color:  #000000;\n",
       "        }    #T_c9b60ad0_044a_11ea_99ca_309c23131503row8_col12 {\n",
       "            background-color:  #d9d8ea;\n",
       "            color:  #000000;\n",
       "        }    #T_c9b60ad0_044a_11ea_99ca_309c23131503row9_col0 {\n",
       "            background-color:  #fff7fb;\n",
       "            color:  #000000;\n",
       "        }    #T_c9b60ad0_044a_11ea_99ca_309c23131503row9_col1 {\n",
       "            background-color:  #63a2cb;\n",
       "            color:  #000000;\n",
       "        }    #T_c9b60ad0_044a_11ea_99ca_309c23131503row9_col2 {\n",
       "            background-color:  #fcf4fa;\n",
       "            color:  #000000;\n",
       "        }    #T_c9b60ad0_044a_11ea_99ca_309c23131503row9_col3 {\n",
       "            background-color:  #f3edf5;\n",
       "            color:  #000000;\n",
       "        }    #T_c9b60ad0_044a_11ea_99ca_309c23131503row9_col4 {\n",
       "            background-color:  #d8d7e9;\n",
       "            color:  #000000;\n",
       "        }    #T_c9b60ad0_044a_11ea_99ca_309c23131503row9_col5 {\n",
       "            background-color:  #bcc7e1;\n",
       "            color:  #000000;\n",
       "        }    #T_c9b60ad0_044a_11ea_99ca_309c23131503row9_col6 {\n",
       "            background-color:  #f4eef6;\n",
       "            color:  #000000;\n",
       "        }    #T_c9b60ad0_044a_11ea_99ca_309c23131503row9_col7 {\n",
       "            background-color:  #e0deed;\n",
       "            color:  #000000;\n",
       "        }    #T_c9b60ad0_044a_11ea_99ca_309c23131503row9_col8 {\n",
       "            background-color:  #b1c2de;\n",
       "            color:  #000000;\n",
       "        }    #T_c9b60ad0_044a_11ea_99ca_309c23131503row9_col9 {\n",
       "            background-color:  #023858;\n",
       "            color:  #f1f1f1;\n",
       "        }    #T_c9b60ad0_044a_11ea_99ca_309c23131503row9_col10 {\n",
       "            background-color:  #dcdaeb;\n",
       "            color:  #000000;\n",
       "        }    #T_c9b60ad0_044a_11ea_99ca_309c23131503row9_col11 {\n",
       "            background-color:  #dddbec;\n",
       "            color:  #000000;\n",
       "        }    #T_c9b60ad0_044a_11ea_99ca_309c23131503row9_col12 {\n",
       "            background-color:  #cccfe5;\n",
       "            color:  #000000;\n",
       "        }    #T_c9b60ad0_044a_11ea_99ca_309c23131503row10_col0 {\n",
       "            background-color:  #c0c9e2;\n",
       "            color:  #000000;\n",
       "        }    #T_c9b60ad0_044a_11ea_99ca_309c23131503row10_col1 {\n",
       "            background-color:  #6fa7ce;\n",
       "            color:  #000000;\n",
       "        }    #T_c9b60ad0_044a_11ea_99ca_309c23131503row10_col2 {\n",
       "            background-color:  #fbf3f9;\n",
       "            color:  #000000;\n",
       "        }    #T_c9b60ad0_044a_11ea_99ca_309c23131503row10_col3 {\n",
       "            background-color:  #f3edf5;\n",
       "            color:  #000000;\n",
       "        }    #T_c9b60ad0_044a_11ea_99ca_309c23131503row10_col4 {\n",
       "            background-color:  #e0deed;\n",
       "            color:  #000000;\n",
       "        }    #T_c9b60ad0_044a_11ea_99ca_309c23131503row10_col5 {\n",
       "            background-color:  #c2cbe2;\n",
       "            color:  #000000;\n",
       "        }    #T_c9b60ad0_044a_11ea_99ca_309c23131503row10_col6 {\n",
       "            background-color:  #e0dded;\n",
       "            color:  #000000;\n",
       "        }    #T_c9b60ad0_044a_11ea_99ca_309c23131503row10_col7 {\n",
       "            background-color:  #ebe6f2;\n",
       "            color:  #000000;\n",
       "        }    #T_c9b60ad0_044a_11ea_99ca_309c23131503row10_col8 {\n",
       "            background-color:  #b8c6e0;\n",
       "            color:  #000000;\n",
       "        }    #T_c9b60ad0_044a_11ea_99ca_309c23131503row10_col9 {\n",
       "            background-color:  #abbfdc;\n",
       "            color:  #000000;\n",
       "        }    #T_c9b60ad0_044a_11ea_99ca_309c23131503row10_col10 {\n",
       "            background-color:  #023858;\n",
       "            color:  #f1f1f1;\n",
       "        }    #T_c9b60ad0_044a_11ea_99ca_309c23131503row10_col11 {\n",
       "            background-color:  #eae6f1;\n",
       "            color:  #000000;\n",
       "        }    #T_c9b60ad0_044a_11ea_99ca_309c23131503row10_col12 {\n",
       "            background-color:  #e8e4f0;\n",
       "            color:  #000000;\n",
       "        }    #T_c9b60ad0_044a_11ea_99ca_309c23131503row11_col0 {\n",
       "            background-color:  #bbc7e0;\n",
       "            color:  #000000;\n",
       "        }    #T_c9b60ad0_044a_11ea_99ca_309c23131503row11_col1 {\n",
       "            background-color:  #7eadd1;\n",
       "            color:  #000000;\n",
       "        }    #T_c9b60ad0_044a_11ea_99ca_309c23131503row11_col2 {\n",
       "            background-color:  #fff7fb;\n",
       "            color:  #000000;\n",
       "        }    #T_c9b60ad0_044a_11ea_99ca_309c23131503row11_col3 {\n",
       "            background-color:  #f5eef6;\n",
       "            color:  #000000;\n",
       "        }    #T_c9b60ad0_044a_11ea_99ca_309c23131503row11_col4 {\n",
       "            background-color:  #dbdaeb;\n",
       "            color:  #000000;\n",
       "        }    #T_c9b60ad0_044a_11ea_99ca_309c23131503row11_col5 {\n",
       "            background-color:  #b5c4df;\n",
       "            color:  #000000;\n",
       "        }    #T_c9b60ad0_044a_11ea_99ca_309c23131503row11_col6 {\n",
       "            background-color:  #e1dfed;\n",
       "            color:  #000000;\n",
       "        }    #T_c9b60ad0_044a_11ea_99ca_309c23131503row11_col7 {\n",
       "            background-color:  #ebe6f2;\n",
       "            color:  #000000;\n",
       "        }    #T_c9b60ad0_044a_11ea_99ca_309c23131503row11_col8 {\n",
       "            background-color:  #9fbad9;\n",
       "            color:  #000000;\n",
       "        }    #T_c9b60ad0_044a_11ea_99ca_309c23131503row11_col9 {\n",
       "            background-color:  #9ebad9;\n",
       "            color:  #000000;\n",
       "        }    #T_c9b60ad0_044a_11ea_99ca_309c23131503row11_col10 {\n",
       "            background-color:  #dfddec;\n",
       "            color:  #000000;\n",
       "        }    #T_c9b60ad0_044a_11ea_99ca_309c23131503row11_col11 {\n",
       "            background-color:  #023858;\n",
       "            color:  #f1f1f1;\n",
       "        }    #T_c9b60ad0_044a_11ea_99ca_309c23131503row11_col12 {\n",
       "            background-color:  #e0deed;\n",
       "            color:  #000000;\n",
       "        }    #T_c9b60ad0_044a_11ea_99ca_309c23131503row12_col0 {\n",
       "            background-color:  #d2d2e7;\n",
       "            color:  #000000;\n",
       "        }    #T_c9b60ad0_044a_11ea_99ca_309c23131503row12_col1 {\n",
       "            background-color:  #6fa7ce;\n",
       "            color:  #000000;\n",
       "        }    #T_c9b60ad0_044a_11ea_99ca_309c23131503row12_col2 {\n",
       "            background-color:  #f3edf5;\n",
       "            color:  #000000;\n",
       "        }    #T_c9b60ad0_044a_11ea_99ca_309c23131503row12_col3 {\n",
       "            background-color:  #fcf4fa;\n",
       "            color:  #000000;\n",
       "        }    #T_c9b60ad0_044a_11ea_99ca_309c23131503row12_col4 {\n",
       "            background-color:  #d6d6e9;\n",
       "            color:  #000000;\n",
       "        }    #T_c9b60ad0_044a_11ea_99ca_309c23131503row12_col5 {\n",
       "            background-color:  #b5c4df;\n",
       "            color:  #000000;\n",
       "        }    #T_c9b60ad0_044a_11ea_99ca_309c23131503row12_col6 {\n",
       "            background-color:  #f2ecf5;\n",
       "            color:  #000000;\n",
       "        }    #T_c9b60ad0_044a_11ea_99ca_309c23131503row12_col7 {\n",
       "            background-color:  #dad9ea;\n",
       "            color:  #000000;\n",
       "        }    #T_c9b60ad0_044a_11ea_99ca_309c23131503row12_col8 {\n",
       "            background-color:  #9ab8d8;\n",
       "            color:  #000000;\n",
       "        }    #T_c9b60ad0_044a_11ea_99ca_309c23131503row12_col9 {\n",
       "            background-color:  #89b1d4;\n",
       "            color:  #000000;\n",
       "        }    #T_c9b60ad0_044a_11ea_99ca_309c23131503row12_col10 {\n",
       "            background-color:  #dfddec;\n",
       "            color:  #000000;\n",
       "        }    #T_c9b60ad0_044a_11ea_99ca_309c23131503row12_col11 {\n",
       "            background-color:  #e2dfee;\n",
       "            color:  #000000;\n",
       "        }    #T_c9b60ad0_044a_11ea_99ca_309c23131503row12_col12 {\n",
       "            background-color:  #023858;\n",
       "            color:  #f1f1f1;\n",
       "        }</style><table id=\"T_c9b60ad0_044a_11ea_99ca_309c23131503\" ><thead>    <tr>        <th class=\"blank level0\" ></th>        <th class=\"col_heading level0 col0\" >credit.policy</th>        <th class=\"col_heading level0 col1\" >int.rate</th>        <th class=\"col_heading level0 col2\" >installment</th>        <th class=\"col_heading level0 col3\" >log.annual.inc</th>        <th class=\"col_heading level0 col4\" >dti</th>        <th class=\"col_heading level0 col5\" >fico</th>        <th class=\"col_heading level0 col6\" >days.with.cr.line</th>        <th class=\"col_heading level0 col7\" >revol.bal</th>        <th class=\"col_heading level0 col8\" >revol.util</th>        <th class=\"col_heading level0 col9\" >inq.last.6mths</th>        <th class=\"col_heading level0 col10\" >delinq.2yrs</th>        <th class=\"col_heading level0 col11\" >pub.rec</th>        <th class=\"col_heading level0 col12\" >not.fully.paid</th>    </tr></thead><tbody>\n",
       "                <tr>\n",
       "                        <th id=\"T_c9b60ad0_044a_11ea_99ca_309c23131503level0_row0\" class=\"row_heading level0 row0\" >credit.policy</th>\n",
       "                        <td id=\"T_c9b60ad0_044a_11ea_99ca_309c23131503row0_col0\" class=\"data row0 col0\" >1</td>\n",
       "                        <td id=\"T_c9b60ad0_044a_11ea_99ca_309c23131503row0_col1\" class=\"data row0 col1\" >-0.29</td>\n",
       "                        <td id=\"T_c9b60ad0_044a_11ea_99ca_309c23131503row0_col2\" class=\"data row0 col2\" >0.059</td>\n",
       "                        <td id=\"T_c9b60ad0_044a_11ea_99ca_309c23131503row0_col3\" class=\"data row0 col3\" >0.035</td>\n",
       "                        <td id=\"T_c9b60ad0_044a_11ea_99ca_309c23131503row0_col4\" class=\"data row0 col4\" >-0.091</td>\n",
       "                        <td id=\"T_c9b60ad0_044a_11ea_99ca_309c23131503row0_col5\" class=\"data row0 col5\" >0.35</td>\n",
       "                        <td id=\"T_c9b60ad0_044a_11ea_99ca_309c23131503row0_col6\" class=\"data row0 col6\" >0.099</td>\n",
       "                        <td id=\"T_c9b60ad0_044a_11ea_99ca_309c23131503row0_col7\" class=\"data row0 col7\" >-0.19</td>\n",
       "                        <td id=\"T_c9b60ad0_044a_11ea_99ca_309c23131503row0_col8\" class=\"data row0 col8\" >-0.1</td>\n",
       "                        <td id=\"T_c9b60ad0_044a_11ea_99ca_309c23131503row0_col9\" class=\"data row0 col9\" >-0.54</td>\n",
       "                        <td id=\"T_c9b60ad0_044a_11ea_99ca_309c23131503row0_col10\" class=\"data row0 col10\" >-0.076</td>\n",
       "                        <td id=\"T_c9b60ad0_044a_11ea_99ca_309c23131503row0_col11\" class=\"data row0 col11\" >-0.054</td>\n",
       "                        <td id=\"T_c9b60ad0_044a_11ea_99ca_309c23131503row0_col12\" class=\"data row0 col12\" >-0.16</td>\n",
       "            </tr>\n",
       "            <tr>\n",
       "                        <th id=\"T_c9b60ad0_044a_11ea_99ca_309c23131503level0_row1\" class=\"row_heading level0 row1\" >int.rate</th>\n",
       "                        <td id=\"T_c9b60ad0_044a_11ea_99ca_309c23131503row1_col0\" class=\"data row1 col0\" >-0.29</td>\n",
       "                        <td id=\"T_c9b60ad0_044a_11ea_99ca_309c23131503row1_col1\" class=\"data row1 col1\" >1</td>\n",
       "                        <td id=\"T_c9b60ad0_044a_11ea_99ca_309c23131503row1_col2\" class=\"data row1 col2\" >0.28</td>\n",
       "                        <td id=\"T_c9b60ad0_044a_11ea_99ca_309c23131503row1_col3\" class=\"data row1 col3\" >0.056</td>\n",
       "                        <td id=\"T_c9b60ad0_044a_11ea_99ca_309c23131503row1_col4\" class=\"data row1 col4\" >0.22</td>\n",
       "                        <td id=\"T_c9b60ad0_044a_11ea_99ca_309c23131503row1_col5\" class=\"data row1 col5\" >-0.71</td>\n",
       "                        <td id=\"T_c9b60ad0_044a_11ea_99ca_309c23131503row1_col6\" class=\"data row1 col6\" >-0.12</td>\n",
       "                        <td id=\"T_c9b60ad0_044a_11ea_99ca_309c23131503row1_col7\" class=\"data row1 col7\" >0.093</td>\n",
       "                        <td id=\"T_c9b60ad0_044a_11ea_99ca_309c23131503row1_col8\" class=\"data row1 col8\" >0.46</td>\n",
       "                        <td id=\"T_c9b60ad0_044a_11ea_99ca_309c23131503row1_col9\" class=\"data row1 col9\" >0.2</td>\n",
       "                        <td id=\"T_c9b60ad0_044a_11ea_99ca_309c23131503row1_col10\" class=\"data row1 col10\" >0.16</td>\n",
       "                        <td id=\"T_c9b60ad0_044a_11ea_99ca_309c23131503row1_col11\" class=\"data row1 col11\" >0.098</td>\n",
       "                        <td id=\"T_c9b60ad0_044a_11ea_99ca_309c23131503row1_col12\" class=\"data row1 col12\" >0.16</td>\n",
       "            </tr>\n",
       "            <tr>\n",
       "                        <th id=\"T_c9b60ad0_044a_11ea_99ca_309c23131503level0_row2\" class=\"row_heading level0 row2\" >installment</th>\n",
       "                        <td id=\"T_c9b60ad0_044a_11ea_99ca_309c23131503row2_col0\" class=\"data row2 col0\" >0.059</td>\n",
       "                        <td id=\"T_c9b60ad0_044a_11ea_99ca_309c23131503row2_col1\" class=\"data row2 col1\" >0.28</td>\n",
       "                        <td id=\"T_c9b60ad0_044a_11ea_99ca_309c23131503row2_col2\" class=\"data row2 col2\" >1</td>\n",
       "                        <td id=\"T_c9b60ad0_044a_11ea_99ca_309c23131503row2_col3\" class=\"data row2 col3\" >0.45</td>\n",
       "                        <td id=\"T_c9b60ad0_044a_11ea_99ca_309c23131503row2_col4\" class=\"data row2 col4\" >0.05</td>\n",
       "                        <td id=\"T_c9b60ad0_044a_11ea_99ca_309c23131503row2_col5\" class=\"data row2 col5\" >0.086</td>\n",
       "                        <td id=\"T_c9b60ad0_044a_11ea_99ca_309c23131503row2_col6\" class=\"data row2 col6\" >0.18</td>\n",
       "                        <td id=\"T_c9b60ad0_044a_11ea_99ca_309c23131503row2_col7\" class=\"data row2 col7\" >0.23</td>\n",
       "                        <td id=\"T_c9b60ad0_044a_11ea_99ca_309c23131503row2_col8\" class=\"data row2 col8\" >0.081</td>\n",
       "                        <td id=\"T_c9b60ad0_044a_11ea_99ca_309c23131503row2_col9\" class=\"data row2 col9\" >-0.01</td>\n",
       "                        <td id=\"T_c9b60ad0_044a_11ea_99ca_309c23131503row2_col10\" class=\"data row2 col10\" >-0.0044</td>\n",
       "                        <td id=\"T_c9b60ad0_044a_11ea_99ca_309c23131503row2_col11\" class=\"data row2 col11\" >-0.033</td>\n",
       "                        <td id=\"T_c9b60ad0_044a_11ea_99ca_309c23131503row2_col12\" class=\"data row2 col12\" >0.05</td>\n",
       "            </tr>\n",
       "            <tr>\n",
       "                        <th id=\"T_c9b60ad0_044a_11ea_99ca_309c23131503level0_row3\" class=\"row_heading level0 row3\" >log.annual.inc</th>\n",
       "                        <td id=\"T_c9b60ad0_044a_11ea_99ca_309c23131503row3_col0\" class=\"data row3 col0\" >0.035</td>\n",
       "                        <td id=\"T_c9b60ad0_044a_11ea_99ca_309c23131503row3_col1\" class=\"data row3 col1\" >0.056</td>\n",
       "                        <td id=\"T_c9b60ad0_044a_11ea_99ca_309c23131503row3_col2\" class=\"data row3 col2\" >0.45</td>\n",
       "                        <td id=\"T_c9b60ad0_044a_11ea_99ca_309c23131503row3_col3\" class=\"data row3 col3\" >1</td>\n",
       "                        <td id=\"T_c9b60ad0_044a_11ea_99ca_309c23131503row3_col4\" class=\"data row3 col4\" >-0.054</td>\n",
       "                        <td id=\"T_c9b60ad0_044a_11ea_99ca_309c23131503row3_col5\" class=\"data row3 col5\" >0.11</td>\n",
       "                        <td id=\"T_c9b60ad0_044a_11ea_99ca_309c23131503row3_col6\" class=\"data row3 col6\" >0.34</td>\n",
       "                        <td id=\"T_c9b60ad0_044a_11ea_99ca_309c23131503row3_col7\" class=\"data row3 col7\" >0.37</td>\n",
       "                        <td id=\"T_c9b60ad0_044a_11ea_99ca_309c23131503row3_col8\" class=\"data row3 col8\" >0.055</td>\n",
       "                        <td id=\"T_c9b60ad0_044a_11ea_99ca_309c23131503row3_col9\" class=\"data row3 col9\" >0.029</td>\n",
       "                        <td id=\"T_c9b60ad0_044a_11ea_99ca_309c23131503row3_col10\" class=\"data row3 col10\" >0.029</td>\n",
       "                        <td id=\"T_c9b60ad0_044a_11ea_99ca_309c23131503row3_col11\" class=\"data row3 col11\" >0.017</td>\n",
       "                        <td id=\"T_c9b60ad0_044a_11ea_99ca_309c23131503row3_col12\" class=\"data row3 col12\" >-0.033</td>\n",
       "            </tr>\n",
       "            <tr>\n",
       "                        <th id=\"T_c9b60ad0_044a_11ea_99ca_309c23131503level0_row4\" class=\"row_heading level0 row4\" >dti</th>\n",
       "                        <td id=\"T_c9b60ad0_044a_11ea_99ca_309c23131503row4_col0\" class=\"data row4 col0\" >-0.091</td>\n",
       "                        <td id=\"T_c9b60ad0_044a_11ea_99ca_309c23131503row4_col1\" class=\"data row4 col1\" >0.22</td>\n",
       "                        <td id=\"T_c9b60ad0_044a_11ea_99ca_309c23131503row4_col2\" class=\"data row4 col2\" >0.05</td>\n",
       "                        <td id=\"T_c9b60ad0_044a_11ea_99ca_309c23131503row4_col3\" class=\"data row4 col3\" >-0.054</td>\n",
       "                        <td id=\"T_c9b60ad0_044a_11ea_99ca_309c23131503row4_col4\" class=\"data row4 col4\" >1</td>\n",
       "                        <td id=\"T_c9b60ad0_044a_11ea_99ca_309c23131503row4_col5\" class=\"data row4 col5\" >-0.24</td>\n",
       "                        <td id=\"T_c9b60ad0_044a_11ea_99ca_309c23131503row4_col6\" class=\"data row4 col6\" >0.06</td>\n",
       "                        <td id=\"T_c9b60ad0_044a_11ea_99ca_309c23131503row4_col7\" class=\"data row4 col7\" >0.19</td>\n",
       "                        <td id=\"T_c9b60ad0_044a_11ea_99ca_309c23131503row4_col8\" class=\"data row4 col8\" >0.34</td>\n",
       "                        <td id=\"T_c9b60ad0_044a_11ea_99ca_309c23131503row4_col9\" class=\"data row4 col9\" >0.029</td>\n",
       "                        <td id=\"T_c9b60ad0_044a_11ea_99ca_309c23131503row4_col10\" class=\"data row4 col10\" >-0.022</td>\n",
       "                        <td id=\"T_c9b60ad0_044a_11ea_99ca_309c23131503row4_col11\" class=\"data row4 col11\" >0.0062</td>\n",
       "                        <td id=\"T_c9b60ad0_044a_11ea_99ca_309c23131503row4_col12\" class=\"data row4 col12\" >0.037</td>\n",
       "            </tr>\n",
       "            <tr>\n",
       "                        <th id=\"T_c9b60ad0_044a_11ea_99ca_309c23131503level0_row5\" class=\"row_heading level0 row5\" >fico</th>\n",
       "                        <td id=\"T_c9b60ad0_044a_11ea_99ca_309c23131503row5_col0\" class=\"data row5 col0\" >0.35</td>\n",
       "                        <td id=\"T_c9b60ad0_044a_11ea_99ca_309c23131503row5_col1\" class=\"data row5 col1\" >-0.71</td>\n",
       "                        <td id=\"T_c9b60ad0_044a_11ea_99ca_309c23131503row5_col2\" class=\"data row5 col2\" >0.086</td>\n",
       "                        <td id=\"T_c9b60ad0_044a_11ea_99ca_309c23131503row5_col3\" class=\"data row5 col3\" >0.11</td>\n",
       "                        <td id=\"T_c9b60ad0_044a_11ea_99ca_309c23131503row5_col4\" class=\"data row5 col4\" >-0.24</td>\n",
       "                        <td id=\"T_c9b60ad0_044a_11ea_99ca_309c23131503row5_col5\" class=\"data row5 col5\" >1</td>\n",
       "                        <td id=\"T_c9b60ad0_044a_11ea_99ca_309c23131503row5_col6\" class=\"data row5 col6\" >0.26</td>\n",
       "                        <td id=\"T_c9b60ad0_044a_11ea_99ca_309c23131503row5_col7\" class=\"data row5 col7\" >-0.016</td>\n",
       "                        <td id=\"T_c9b60ad0_044a_11ea_99ca_309c23131503row5_col8\" class=\"data row5 col8\" >-0.54</td>\n",
       "                        <td id=\"T_c9b60ad0_044a_11ea_99ca_309c23131503row5_col9\" class=\"data row5 col9\" >-0.19</td>\n",
       "                        <td id=\"T_c9b60ad0_044a_11ea_99ca_309c23131503row5_col10\" class=\"data row5 col10\" >-0.22</td>\n",
       "                        <td id=\"T_c9b60ad0_044a_11ea_99ca_309c23131503row5_col11\" class=\"data row5 col11\" >-0.15</td>\n",
       "                        <td id=\"T_c9b60ad0_044a_11ea_99ca_309c23131503row5_col12\" class=\"data row5 col12\" >-0.15</td>\n",
       "            </tr>\n",
       "            <tr>\n",
       "                        <th id=\"T_c9b60ad0_044a_11ea_99ca_309c23131503level0_row6\" class=\"row_heading level0 row6\" >days.with.cr.line</th>\n",
       "                        <td id=\"T_c9b60ad0_044a_11ea_99ca_309c23131503row6_col0\" class=\"data row6 col0\" >0.099</td>\n",
       "                        <td id=\"T_c9b60ad0_044a_11ea_99ca_309c23131503row6_col1\" class=\"data row6 col1\" >-0.12</td>\n",
       "                        <td id=\"T_c9b60ad0_044a_11ea_99ca_309c23131503row6_col2\" class=\"data row6 col2\" >0.18</td>\n",
       "                        <td id=\"T_c9b60ad0_044a_11ea_99ca_309c23131503row6_col3\" class=\"data row6 col3\" >0.34</td>\n",
       "                        <td id=\"T_c9b60ad0_044a_11ea_99ca_309c23131503row6_col4\" class=\"data row6 col4\" >0.06</td>\n",
       "                        <td id=\"T_c9b60ad0_044a_11ea_99ca_309c23131503row6_col5\" class=\"data row6 col5\" >0.26</td>\n",
       "                        <td id=\"T_c9b60ad0_044a_11ea_99ca_309c23131503row6_col6\" class=\"data row6 col6\" >1</td>\n",
       "                        <td id=\"T_c9b60ad0_044a_11ea_99ca_309c23131503row6_col7\" class=\"data row6 col7\" >0.23</td>\n",
       "                        <td id=\"T_c9b60ad0_044a_11ea_99ca_309c23131503row6_col8\" class=\"data row6 col8\" >-0.024</td>\n",
       "                        <td id=\"T_c9b60ad0_044a_11ea_99ca_309c23131503row6_col9\" class=\"data row6 col9\" >-0.042</td>\n",
       "                        <td id=\"T_c9b60ad0_044a_11ea_99ca_309c23131503row6_col10\" class=\"data row6 col10\" >0.081</td>\n",
       "                        <td id=\"T_c9b60ad0_044a_11ea_99ca_309c23131503row6_col11\" class=\"data row6 col11\" >0.072</td>\n",
       "                        <td id=\"T_c9b60ad0_044a_11ea_99ca_309c23131503row6_col12\" class=\"data row6 col12\" >-0.029</td>\n",
       "            </tr>\n",
       "            <tr>\n",
       "                        <th id=\"T_c9b60ad0_044a_11ea_99ca_309c23131503level0_row7\" class=\"row_heading level0 row7\" >revol.bal</th>\n",
       "                        <td id=\"T_c9b60ad0_044a_11ea_99ca_309c23131503row7_col0\" class=\"data row7 col0\" >-0.19</td>\n",
       "                        <td id=\"T_c9b60ad0_044a_11ea_99ca_309c23131503row7_col1\" class=\"data row7 col1\" >0.093</td>\n",
       "                        <td id=\"T_c9b60ad0_044a_11ea_99ca_309c23131503row7_col2\" class=\"data row7 col2\" >0.23</td>\n",
       "                        <td id=\"T_c9b60ad0_044a_11ea_99ca_309c23131503row7_col3\" class=\"data row7 col3\" >0.37</td>\n",
       "                        <td id=\"T_c9b60ad0_044a_11ea_99ca_309c23131503row7_col4\" class=\"data row7 col4\" >0.19</td>\n",
       "                        <td id=\"T_c9b60ad0_044a_11ea_99ca_309c23131503row7_col5\" class=\"data row7 col5\" >-0.016</td>\n",
       "                        <td id=\"T_c9b60ad0_044a_11ea_99ca_309c23131503row7_col6\" class=\"data row7 col6\" >0.23</td>\n",
       "                        <td id=\"T_c9b60ad0_044a_11ea_99ca_309c23131503row7_col7\" class=\"data row7 col7\" >1</td>\n",
       "                        <td id=\"T_c9b60ad0_044a_11ea_99ca_309c23131503row7_col8\" class=\"data row7 col8\" >0.2</td>\n",
       "                        <td id=\"T_c9b60ad0_044a_11ea_99ca_309c23131503row7_col9\" class=\"data row7 col9\" >0.022</td>\n",
       "                        <td id=\"T_c9b60ad0_044a_11ea_99ca_309c23131503row7_col10\" class=\"data row7 col10\" >-0.033</td>\n",
       "                        <td id=\"T_c9b60ad0_044a_11ea_99ca_309c23131503row7_col11\" class=\"data row7 col11\" >-0.031</td>\n",
       "                        <td id=\"T_c9b60ad0_044a_11ea_99ca_309c23131503row7_col12\" class=\"data row7 col12\" >0.054</td>\n",
       "            </tr>\n",
       "            <tr>\n",
       "                        <th id=\"T_c9b60ad0_044a_11ea_99ca_309c23131503level0_row8\" class=\"row_heading level0 row8\" >revol.util</th>\n",
       "                        <td id=\"T_c9b60ad0_044a_11ea_99ca_309c23131503row8_col0\" class=\"data row8 col0\" >-0.1</td>\n",
       "                        <td id=\"T_c9b60ad0_044a_11ea_99ca_309c23131503row8_col1\" class=\"data row8 col1\" >0.46</td>\n",
       "                        <td id=\"T_c9b60ad0_044a_11ea_99ca_309c23131503row8_col2\" class=\"data row8 col2\" >0.081</td>\n",
       "                        <td id=\"T_c9b60ad0_044a_11ea_99ca_309c23131503row8_col3\" class=\"data row8 col3\" >0.055</td>\n",
       "                        <td id=\"T_c9b60ad0_044a_11ea_99ca_309c23131503row8_col4\" class=\"data row8 col4\" >0.34</td>\n",
       "                        <td id=\"T_c9b60ad0_044a_11ea_99ca_309c23131503row8_col5\" class=\"data row8 col5\" >-0.54</td>\n",
       "                        <td id=\"T_c9b60ad0_044a_11ea_99ca_309c23131503row8_col6\" class=\"data row8 col6\" >-0.024</td>\n",
       "                        <td id=\"T_c9b60ad0_044a_11ea_99ca_309c23131503row8_col7\" class=\"data row8 col7\" >0.2</td>\n",
       "                        <td id=\"T_c9b60ad0_044a_11ea_99ca_309c23131503row8_col8\" class=\"data row8 col8\" >1</td>\n",
       "                        <td id=\"T_c9b60ad0_044a_11ea_99ca_309c23131503row8_col9\" class=\"data row8 col9\" >-0.014</td>\n",
       "                        <td id=\"T_c9b60ad0_044a_11ea_99ca_309c23131503row8_col10\" class=\"data row8 col10\" >-0.043</td>\n",
       "                        <td id=\"T_c9b60ad0_044a_11ea_99ca_309c23131503row8_col11\" class=\"data row8 col11\" >0.067</td>\n",
       "                        <td id=\"T_c9b60ad0_044a_11ea_99ca_309c23131503row8_col12\" class=\"data row8 col12\" >0.082</td>\n",
       "            </tr>\n",
       "            <tr>\n",
       "                        <th id=\"T_c9b60ad0_044a_11ea_99ca_309c23131503level0_row9\" class=\"row_heading level0 row9\" >inq.last.6mths</th>\n",
       "                        <td id=\"T_c9b60ad0_044a_11ea_99ca_309c23131503row9_col0\" class=\"data row9 col0\" >-0.54</td>\n",
       "                        <td id=\"T_c9b60ad0_044a_11ea_99ca_309c23131503row9_col1\" class=\"data row9 col1\" >0.2</td>\n",
       "                        <td id=\"T_c9b60ad0_044a_11ea_99ca_309c23131503row9_col2\" class=\"data row9 col2\" >-0.01</td>\n",
       "                        <td id=\"T_c9b60ad0_044a_11ea_99ca_309c23131503row9_col3\" class=\"data row9 col3\" >0.029</td>\n",
       "                        <td id=\"T_c9b60ad0_044a_11ea_99ca_309c23131503row9_col4\" class=\"data row9 col4\" >0.029</td>\n",
       "                        <td id=\"T_c9b60ad0_044a_11ea_99ca_309c23131503row9_col5\" class=\"data row9 col5\" >-0.19</td>\n",
       "                        <td id=\"T_c9b60ad0_044a_11ea_99ca_309c23131503row9_col6\" class=\"data row9 col6\" >-0.042</td>\n",
       "                        <td id=\"T_c9b60ad0_044a_11ea_99ca_309c23131503row9_col7\" class=\"data row9 col7\" >0.022</td>\n",
       "                        <td id=\"T_c9b60ad0_044a_11ea_99ca_309c23131503row9_col8\" class=\"data row9 col8\" >-0.014</td>\n",
       "                        <td id=\"T_c9b60ad0_044a_11ea_99ca_309c23131503row9_col9\" class=\"data row9 col9\" >1</td>\n",
       "                        <td id=\"T_c9b60ad0_044a_11ea_99ca_309c23131503row9_col10\" class=\"data row9 col10\" >0.021</td>\n",
       "                        <td id=\"T_c9b60ad0_044a_11ea_99ca_309c23131503row9_col11\" class=\"data row9 col11\" >0.073</td>\n",
       "                        <td id=\"T_c9b60ad0_044a_11ea_99ca_309c23131503row9_col12\" class=\"data row9 col12\" >0.15</td>\n",
       "            </tr>\n",
       "            <tr>\n",
       "                        <th id=\"T_c9b60ad0_044a_11ea_99ca_309c23131503level0_row10\" class=\"row_heading level0 row10\" >delinq.2yrs</th>\n",
       "                        <td id=\"T_c9b60ad0_044a_11ea_99ca_309c23131503row10_col0\" class=\"data row10 col0\" >-0.076</td>\n",
       "                        <td id=\"T_c9b60ad0_044a_11ea_99ca_309c23131503row10_col1\" class=\"data row10 col1\" >0.16</td>\n",
       "                        <td id=\"T_c9b60ad0_044a_11ea_99ca_309c23131503row10_col2\" class=\"data row10 col2\" >-0.0044</td>\n",
       "                        <td id=\"T_c9b60ad0_044a_11ea_99ca_309c23131503row10_col3\" class=\"data row10 col3\" >0.029</td>\n",
       "                        <td id=\"T_c9b60ad0_044a_11ea_99ca_309c23131503row10_col4\" class=\"data row10 col4\" >-0.022</td>\n",
       "                        <td id=\"T_c9b60ad0_044a_11ea_99ca_309c23131503row10_col5\" class=\"data row10 col5\" >-0.22</td>\n",
       "                        <td id=\"T_c9b60ad0_044a_11ea_99ca_309c23131503row10_col6\" class=\"data row10 col6\" >0.081</td>\n",
       "                        <td id=\"T_c9b60ad0_044a_11ea_99ca_309c23131503row10_col7\" class=\"data row10 col7\" >-0.033</td>\n",
       "                        <td id=\"T_c9b60ad0_044a_11ea_99ca_309c23131503row10_col8\" class=\"data row10 col8\" >-0.043</td>\n",
       "                        <td id=\"T_c9b60ad0_044a_11ea_99ca_309c23131503row10_col9\" class=\"data row10 col9\" >0.021</td>\n",
       "                        <td id=\"T_c9b60ad0_044a_11ea_99ca_309c23131503row10_col10\" class=\"data row10 col10\" >1</td>\n",
       "                        <td id=\"T_c9b60ad0_044a_11ea_99ca_309c23131503row10_col11\" class=\"data row10 col11\" >0.0092</td>\n",
       "                        <td id=\"T_c9b60ad0_044a_11ea_99ca_309c23131503row10_col12\" class=\"data row10 col12\" >0.0089</td>\n",
       "            </tr>\n",
       "            <tr>\n",
       "                        <th id=\"T_c9b60ad0_044a_11ea_99ca_309c23131503level0_row11\" class=\"row_heading level0 row11\" >pub.rec</th>\n",
       "                        <td id=\"T_c9b60ad0_044a_11ea_99ca_309c23131503row11_col0\" class=\"data row11 col0\" >-0.054</td>\n",
       "                        <td id=\"T_c9b60ad0_044a_11ea_99ca_309c23131503row11_col1\" class=\"data row11 col1\" >0.098</td>\n",
       "                        <td id=\"T_c9b60ad0_044a_11ea_99ca_309c23131503row11_col2\" class=\"data row11 col2\" >-0.033</td>\n",
       "                        <td id=\"T_c9b60ad0_044a_11ea_99ca_309c23131503row11_col3\" class=\"data row11 col3\" >0.017</td>\n",
       "                        <td id=\"T_c9b60ad0_044a_11ea_99ca_309c23131503row11_col4\" class=\"data row11 col4\" >0.0062</td>\n",
       "                        <td id=\"T_c9b60ad0_044a_11ea_99ca_309c23131503row11_col5\" class=\"data row11 col5\" >-0.15</td>\n",
       "                        <td id=\"T_c9b60ad0_044a_11ea_99ca_309c23131503row11_col6\" class=\"data row11 col6\" >0.072</td>\n",
       "                        <td id=\"T_c9b60ad0_044a_11ea_99ca_309c23131503row11_col7\" class=\"data row11 col7\" >-0.031</td>\n",
       "                        <td id=\"T_c9b60ad0_044a_11ea_99ca_309c23131503row11_col8\" class=\"data row11 col8\" >0.067</td>\n",
       "                        <td id=\"T_c9b60ad0_044a_11ea_99ca_309c23131503row11_col9\" class=\"data row11 col9\" >0.073</td>\n",
       "                        <td id=\"T_c9b60ad0_044a_11ea_99ca_309c23131503row11_col10\" class=\"data row11 col10\" >0.0092</td>\n",
       "                        <td id=\"T_c9b60ad0_044a_11ea_99ca_309c23131503row11_col11\" class=\"data row11 col11\" >1</td>\n",
       "                        <td id=\"T_c9b60ad0_044a_11ea_99ca_309c23131503row11_col12\" class=\"data row11 col12\" >0.049</td>\n",
       "            </tr>\n",
       "            <tr>\n",
       "                        <th id=\"T_c9b60ad0_044a_11ea_99ca_309c23131503level0_row12\" class=\"row_heading level0 row12\" >not.fully.paid</th>\n",
       "                        <td id=\"T_c9b60ad0_044a_11ea_99ca_309c23131503row12_col0\" class=\"data row12 col0\" >-0.16</td>\n",
       "                        <td id=\"T_c9b60ad0_044a_11ea_99ca_309c23131503row12_col1\" class=\"data row12 col1\" >0.16</td>\n",
       "                        <td id=\"T_c9b60ad0_044a_11ea_99ca_309c23131503row12_col2\" class=\"data row12 col2\" >0.05</td>\n",
       "                        <td id=\"T_c9b60ad0_044a_11ea_99ca_309c23131503row12_col3\" class=\"data row12 col3\" >-0.033</td>\n",
       "                        <td id=\"T_c9b60ad0_044a_11ea_99ca_309c23131503row12_col4\" class=\"data row12 col4\" >0.037</td>\n",
       "                        <td id=\"T_c9b60ad0_044a_11ea_99ca_309c23131503row12_col5\" class=\"data row12 col5\" >-0.15</td>\n",
       "                        <td id=\"T_c9b60ad0_044a_11ea_99ca_309c23131503row12_col6\" class=\"data row12 col6\" >-0.029</td>\n",
       "                        <td id=\"T_c9b60ad0_044a_11ea_99ca_309c23131503row12_col7\" class=\"data row12 col7\" >0.054</td>\n",
       "                        <td id=\"T_c9b60ad0_044a_11ea_99ca_309c23131503row12_col8\" class=\"data row12 col8\" >0.082</td>\n",
       "                        <td id=\"T_c9b60ad0_044a_11ea_99ca_309c23131503row12_col9\" class=\"data row12 col9\" >0.15</td>\n",
       "                        <td id=\"T_c9b60ad0_044a_11ea_99ca_309c23131503row12_col10\" class=\"data row12 col10\" >0.0089</td>\n",
       "                        <td id=\"T_c9b60ad0_044a_11ea_99ca_309c23131503row12_col11\" class=\"data row12 col11\" >0.049</td>\n",
       "                        <td id=\"T_c9b60ad0_044a_11ea_99ca_309c23131503row12_col12\" class=\"data row12 col12\" >1</td>\n",
       "            </tr>\n",
       "    </tbody></table>"
      ],
      "text/plain": [
       "<pandas.io.formats.style.Styler at 0x1d8d8c86080>"
      ]
     },
     "execution_count": 20,
     "metadata": {},
     "output_type": "execute_result"
    }
   ],
   "source": [
    "df.corr().style.background_gradient().set_precision(2)"
   ]
  },
  {
   "cell_type": "code",
   "execution_count": 21,
   "metadata": {},
   "outputs": [
    {
     "data": {
      "text/plain": [
       "credit.policy        0.348319\n",
       "int.rate            -0.714821\n",
       "installment          0.086039\n",
       "log.annual.inc       0.114576\n",
       "dti                 -0.241191\n",
       "fico                 1.000000\n",
       "days.with.cr.line    0.263880\n",
       "revol.bal           -0.015553\n",
       "revol.util          -0.541289\n",
       "inq.last.6mths      -0.185293\n",
       "delinq.2yrs         -0.216340\n",
       "pub.rec             -0.147592\n",
       "not.fully.paid      -0.149666\n",
       "Name: fico, dtype: float64"
      ]
     },
     "execution_count": 21,
     "metadata": {},
     "output_type": "execute_result"
    }
   ],
   "source": [
    "df.corr()['fico']"
   ]
  },
  {
   "cell_type": "code",
   "execution_count": 22,
   "metadata": {},
   "outputs": [
    {
     "data": {
      "image/png": "[encoded data removed]",
      "text/plain": [
       "<Figure size 432x288 with 1 Axes>"
      ]
     },
     "metadata": {
      "needs_background": "light"
     },
     "output_type": "display_data"
    }
   ],
   "source": [
    "sns.boxplot(y=df['fico'], x=df['not.fully.paid']);"
   ]
  },
  {
   "cell_type": "markdown",
   "metadata": {},
   "source": [
    "- Dari correlation plot diatas dapat ditarik kesimpulan bahwa fico dan target yaitu not fully paid memiliki korelasi linear negatif yang lemah yaitu hanya -0.14.\n",
    "- dan juga dari boxplot diatas dapat dilihat bahwa boxplot 0 dan 1 hampir memiliki ciri-ciri yang sama.\n",
    "- sehingga berdasarkan dua pernyataan diatas saya berpendapat bahwa fico bukan merupakan prediktor yang potensial untuk target."
   ]
  },
  {
   "cell_type": "markdown",
   "metadata": {},
   "source": [
    "# 11.Apakah variable ‘purpose’ merupakan predictor yang potensial untuk memprediksi target? Jelaskan argumen anda.\n",
    "- Hint: Visualisasikan proporsi setiap kategori dalam variable ‘purpose’ terhadap target. Fungsi pd.crosstab akan membantu."
   ]
  },
  {
   "cell_type": "code",
   "execution_count": 23,
   "metadata": {},
   "outputs": [
    {
     "data": {
      "text/plain": [
       "<matplotlib.axes._subplots.AxesSubplot at 0x1d8d93b90f0>"
      ]
     },
     "execution_count": 23,
     "metadata": {},
     "output_type": "execute_result"
    },
    {
     "data": {
      "image/png": "[encoded data removed]",
      "text/plain": [
       "<Figure size 432x288 with 2 Axes>"
      ]
     },
     "metadata": {
      "needs_background": "light"
     },
     "output_type": "display_data"
    }
   ],
   "source": [
    "sns.heatmap(pd.crosstab(df['purpose'], df['not.fully.paid']), annot=True)"
   ]
  },
  {
   "cell_type": "markdown",
   "metadata": {},
   "source": [
    "- dari heatmap diatas dapat dilihat bahwa untuk kategori 0 dan 1 dalam target memiliki warna yang berbeda.\n",
    "- ambil contoh yang all other, di kategori 0 dia berwarna pink yang berarti jumlahnya banyak sedangkan untuk yang kategori 1 berwarna ungu yang jumlahnya sedikit.\n",
    "- jadi menurut saya, features purpose merupakan predictor yang potensial."
   ]
  },
  {
   "cell_type": "markdown",
   "metadata": {},
   "source": [
    "# 12. Berapa nilai rata-rata dari int.rate untuk purpose dengan kategori ‘credit_card’?"
   ]
  },
  {
   "cell_type": "code",
   "execution_count": 24,
   "metadata": {},
   "outputs": [
    {
     "data": {
      "text/plain": [
       "0.11973819334389857"
      ]
     },
     "execution_count": 24,
     "metadata": {},
     "output_type": "execute_result"
    }
   ],
   "source": [
    "df.groupby(df['purpose'])['int.rate'].mean()['credit_card']"
   ]
  },
  {
   "cell_type": "markdown",
   "metadata": {},
   "source": [
    "- nilai rata rata int.rate untuk features purpose dengan kategori credit_card adalah 0.1197"
   ]
  },
  {
   "cell_type": "markdown",
   "metadata": {},
   "source": [
    "# 13. Berapa jumlah kasus pinjaman yang nilai installment-nya di atas 200 dan tujuan pinjamannya untuk pendidikan (educational) ?"
   ]
  },
  {
   "cell_type": "code",
   "execution_count": 25,
   "metadata": {},
   "outputs": [
    {
     "data": {
      "text/plain": [
       "137"
      ]
     },
     "execution_count": 25,
     "metadata": {},
     "output_type": "execute_result"
    }
   ],
   "source": [
    "len(df[(df['installment'] > 200) & (df['purpose']=='educational')])"
   ]
  },
  {
   "cell_type": "markdown",
   "metadata": {},
   "source": [
    "- ada 137 kasus dengan ciri ciri installment diatas 200 dan tujuan peminjamanya pendidikan"
   ]
  },
  {
   "cell_type": "markdown",
   "metadata": {},
   "source": [
    "# 14. Tuliskan script untuk memfilter purpose =’credit_card’ dan simpan dalam dataframe yang disebut loans3."
   ]
  },
  {
   "cell_type": "code",
   "execution_count": 26,
   "metadata": {
    "scrolled": true
   },
   "outputs": [
    {
     "data": {
      "text/html": [
       "<div>\n",
       "<style scoped>\n",
       "    .dataframe tbody tr th:only-of-type {\n",
       "        vertical-align: middle;\n",
       "    }\n",
       "\n",
       "    .dataframe tbody tr th {\n",
       "        vertical-align: top;\n",
       "    }\n",
       "\n",
       "    .dataframe thead th {\n",
       "        text-align: right;\n",
       "    }\n",
       "</style>\n",
       "<table border=\"1\" class=\"dataframe\">\n",
       "  <thead>\n",
       "    <tr style=\"text-align: right;\">\n",
       "      <th></th>\n",
       "      <th>credit.policy</th>\n",
       "      <th>purpose</th>\n",
       "      <th>int.rate</th>\n",
       "      <th>installment</th>\n",
       "      <th>log.annual.inc</th>\n",
       "      <th>dti</th>\n",
       "      <th>fico</th>\n",
       "      <th>days.with.cr.line</th>\n",
       "      <th>revol.bal</th>\n",
       "      <th>revol.util</th>\n",
       "      <th>inq.last.6mths</th>\n",
       "      <th>delinq.2yrs</th>\n",
       "      <th>pub.rec</th>\n",
       "      <th>not.fully.paid</th>\n",
       "    </tr>\n",
       "  </thead>\n",
       "  <tbody>\n",
       "    <tr>\n",
       "      <th>1</th>\n",
       "      <td>1</td>\n",
       "      <td>credit_card</td>\n",
       "      <td>0.1071</td>\n",
       "      <td>228.22</td>\n",
       "      <td>11.082143</td>\n",
       "      <td>14.29</td>\n",
       "      <td>707</td>\n",
       "      <td>2760.000000</td>\n",
       "      <td>33623</td>\n",
       "      <td>76.7</td>\n",
       "      <td>0</td>\n",
       "      <td>0</td>\n",
       "      <td>0</td>\n",
       "      <td>0</td>\n",
       "    </tr>\n",
       "    <tr>\n",
       "      <th>4</th>\n",
       "      <td>1</td>\n",
       "      <td>credit_card</td>\n",
       "      <td>0.1426</td>\n",
       "      <td>102.92</td>\n",
       "      <td>11.299732</td>\n",
       "      <td>14.97</td>\n",
       "      <td>667</td>\n",
       "      <td>4066.000000</td>\n",
       "      <td>4740</td>\n",
       "      <td>39.5</td>\n",
       "      <td>0</td>\n",
       "      <td>1</td>\n",
       "      <td>0</td>\n",
       "      <td>0</td>\n",
       "    </tr>\n",
       "    <tr>\n",
       "      <th>5</th>\n",
       "      <td>1</td>\n",
       "      <td>credit_card</td>\n",
       "      <td>0.0788</td>\n",
       "      <td>125.13</td>\n",
       "      <td>11.904968</td>\n",
       "      <td>16.98</td>\n",
       "      <td>727</td>\n",
       "      <td>6120.041667</td>\n",
       "      <td>50807</td>\n",
       "      <td>51.0</td>\n",
       "      <td>0</td>\n",
       "      <td>0</td>\n",
       "      <td>0</td>\n",
       "      <td>0</td>\n",
       "    </tr>\n",
       "    <tr>\n",
       "      <th>17</th>\n",
       "      <td>1</td>\n",
       "      <td>credit_card</td>\n",
       "      <td>0.0894</td>\n",
       "      <td>476.58</td>\n",
       "      <td>11.608236</td>\n",
       "      <td>7.07</td>\n",
       "      <td>797</td>\n",
       "      <td>6510.958333</td>\n",
       "      <td>7586</td>\n",
       "      <td>52.7</td>\n",
       "      <td>1</td>\n",
       "      <td>0</td>\n",
       "      <td>0</td>\n",
       "      <td>0</td>\n",
       "    </tr>\n",
       "    <tr>\n",
       "      <th>22</th>\n",
       "      <td>1</td>\n",
       "      <td>credit_card</td>\n",
       "      <td>0.1355</td>\n",
       "      <td>339.60</td>\n",
       "      <td>11.512925</td>\n",
       "      <td>7.94</td>\n",
       "      <td>662</td>\n",
       "      <td>1939.958333</td>\n",
       "      <td>21162</td>\n",
       "      <td>57.7</td>\n",
       "      <td>0</td>\n",
       "      <td>0</td>\n",
       "      <td>0</td>\n",
       "      <td>0</td>\n",
       "    </tr>\n",
       "  </tbody>\n",
       "</table>\n",
       "</div>"
      ],
      "text/plain": [
       "    credit.policy      purpose  int.rate  installment  log.annual.inc    dti  \\\n",
       "1               1  credit_card    0.1071       228.22       11.082143  14.29   \n",
       "4               1  credit_card    0.1426       102.92       11.299732  14.97   \n",
       "5               1  credit_card    0.0788       125.13       11.904968  16.98   \n",
       "17              1  credit_card    0.0894       476.58       11.608236   7.07   \n",
       "22              1  credit_card    0.1355       339.60       11.512925   7.94   \n",
       "\n",
       "    fico  days.with.cr.line  revol.bal  revol.util  inq.last.6mths  \\\n",
       "1    707        2760.000000      33623        76.7               0   \n",
       "4    667        4066.000000       4740        39.5               0   \n",
       "5    727        6120.041667      50807        51.0               0   \n",
       "17   797        6510.958333       7586        52.7               1   \n",
       "22   662        1939.958333      21162        57.7               0   \n",
       "\n",
       "    delinq.2yrs  pub.rec  not.fully.paid  \n",
       "1             0        0               0  \n",
       "4             1        0               0  \n",
       "5             0        0               0  \n",
       "17            0        0               0  \n",
       "22            0        0               0  "
      ]
     },
     "execution_count": 26,
     "metadata": {},
     "output_type": "execute_result"
    }
   ],
   "source": [
    "loans3 = df[df['purpose']=='credit_card']\n",
    "loans3.head()"
   ]
  },
  {
   "cell_type": "code",
   "execution_count": 27,
   "metadata": {},
   "outputs": [
    {
     "data": {
      "text/plain": [
       "array(['credit_card'], dtype=object)"
      ]
     },
     "execution_count": 27,
     "metadata": {},
     "output_type": "execute_result"
    }
   ],
   "source": [
    "loans3['purpose'].unique()"
   ]
  },
  {
   "cell_type": "code",
   "execution_count": 28,
   "metadata": {},
   "outputs": [
    {
     "data": {
      "text/plain": [
       "1262"
      ]
     },
     "execution_count": 28,
     "metadata": {},
     "output_type": "execute_result"
    }
   ],
   "source": [
    "len(loans3)"
   ]
  },
  {
   "cell_type": "markdown",
   "metadata": {},
   "source": [
    "# 15. Siapkan data untuk pemodelan.\n",
    "- Ubah data kategorik menjadi dummy variabel.\n",
    "- Buat dataframe baru bernama ‘final_data’ yang berisi seluruh features (numerik dan kategorik) dengan peubah kategorik yang sudah diubah menjadi dummy variabel."
   ]
  },
  {
   "cell_type": "code",
   "execution_count": 29,
   "metadata": {},
   "outputs": [
    {
     "data": {
      "text/plain": [
       "credit.policy          int64\n",
       "purpose               object\n",
       "int.rate             float64\n",
       "installment          float64\n",
       "log.annual.inc       float64\n",
       "dti                  float64\n",
       "fico                   int64\n",
       "days.with.cr.line    float64\n",
       "revol.bal              int64\n",
       "revol.util           float64\n",
       "inq.last.6mths         int64\n",
       "delinq.2yrs            int64\n",
       "pub.rec                int64\n",
       "not.fully.paid         int64\n",
       "dtype: object"
      ]
     },
     "execution_count": 29,
     "metadata": {},
     "output_type": "execute_result"
    }
   ],
   "source": [
    "df.dtypes"
   ]
  },
  {
   "cell_type": "code",
   "execution_count": 30,
   "metadata": {},
   "outputs": [
    {
     "data": {
      "text/html": [
       "<div>\n",
       "<style scoped>\n",
       "    .dataframe tbody tr th:only-of-type {\n",
       "        vertical-align: middle;\n",
       "    }\n",
       "\n",
       "    .dataframe tbody tr th {\n",
       "        vertical-align: top;\n",
       "    }\n",
       "\n",
       "    .dataframe thead th {\n",
       "        text-align: right;\n",
       "    }\n",
       "</style>\n",
       "<table border=\"1\" class=\"dataframe\">\n",
       "  <thead>\n",
       "    <tr style=\"text-align: right;\">\n",
       "      <th></th>\n",
       "      <th>credit.policy</th>\n",
       "      <th>int.rate</th>\n",
       "      <th>installment</th>\n",
       "      <th>log.annual.inc</th>\n",
       "      <th>dti</th>\n",
       "      <th>fico</th>\n",
       "      <th>days.with.cr.line</th>\n",
       "      <th>revol.bal</th>\n",
       "      <th>revol.util</th>\n",
       "      <th>inq.last.6mths</th>\n",
       "      <th>delinq.2yrs</th>\n",
       "      <th>pub.rec</th>\n",
       "      <th>not.fully.paid</th>\n",
       "      <th>purpose_all_other</th>\n",
       "      <th>purpose_credit_card</th>\n",
       "      <th>purpose_debt_consolidation</th>\n",
       "      <th>purpose_educational</th>\n",
       "      <th>purpose_home_improvement</th>\n",
       "      <th>purpose_major_purchase</th>\n",
       "      <th>purpose_small_business</th>\n",
       "    </tr>\n",
       "  </thead>\n",
       "  <tbody>\n",
       "    <tr>\n",
       "      <th>0</th>\n",
       "      <td>1</td>\n",
       "      <td>0.1189</td>\n",
       "      <td>829.10</td>\n",
       "      <td>11.350407</td>\n",
       "      <td>19.48</td>\n",
       "      <td>737</td>\n",
       "      <td>5639.958333</td>\n",
       "      <td>28854</td>\n",
       "      <td>52.1</td>\n",
       "      <td>0</td>\n",
       "      <td>0</td>\n",
       "      <td>0</td>\n",
       "      <td>0</td>\n",
       "      <td>0</td>\n",
       "      <td>0</td>\n",
       "      <td>1</td>\n",
       "      <td>0</td>\n",
       "      <td>0</td>\n",
       "      <td>0</td>\n",
       "      <td>0</td>\n",
       "    </tr>\n",
       "    <tr>\n",
       "      <th>1</th>\n",
       "      <td>1</td>\n",
       "      <td>0.1071</td>\n",
       "      <td>228.22</td>\n",
       "      <td>11.082143</td>\n",
       "      <td>14.29</td>\n",
       "      <td>707</td>\n",
       "      <td>2760.000000</td>\n",
       "      <td>33623</td>\n",
       "      <td>76.7</td>\n",
       "      <td>0</td>\n",
       "      <td>0</td>\n",
       "      <td>0</td>\n",
       "      <td>0</td>\n",
       "      <td>0</td>\n",
       "      <td>1</td>\n",
       "      <td>0</td>\n",
       "      <td>0</td>\n",
       "      <td>0</td>\n",
       "      <td>0</td>\n",
       "      <td>0</td>\n",
       "    </tr>\n",
       "    <tr>\n",
       "      <th>2</th>\n",
       "      <td>1</td>\n",
       "      <td>0.1357</td>\n",
       "      <td>366.86</td>\n",
       "      <td>10.373491</td>\n",
       "      <td>11.63</td>\n",
       "      <td>682</td>\n",
       "      <td>4710.000000</td>\n",
       "      <td>3511</td>\n",
       "      <td>25.6</td>\n",
       "      <td>1</td>\n",
       "      <td>0</td>\n",
       "      <td>0</td>\n",
       "      <td>0</td>\n",
       "      <td>0</td>\n",
       "      <td>0</td>\n",
       "      <td>1</td>\n",
       "      <td>0</td>\n",
       "      <td>0</td>\n",
       "      <td>0</td>\n",
       "      <td>0</td>\n",
       "    </tr>\n",
       "    <tr>\n",
       "      <th>3</th>\n",
       "      <td>1</td>\n",
       "      <td>0.1008</td>\n",
       "      <td>162.34</td>\n",
       "      <td>11.350407</td>\n",
       "      <td>8.10</td>\n",
       "      <td>712</td>\n",
       "      <td>2699.958333</td>\n",
       "      <td>33667</td>\n",
       "      <td>73.2</td>\n",
       "      <td>1</td>\n",
       "      <td>0</td>\n",
       "      <td>0</td>\n",
       "      <td>0</td>\n",
       "      <td>0</td>\n",
       "      <td>0</td>\n",
       "      <td>1</td>\n",
       "      <td>0</td>\n",
       "      <td>0</td>\n",
       "      <td>0</td>\n",
       "      <td>0</td>\n",
       "    </tr>\n",
       "    <tr>\n",
       "      <th>4</th>\n",
       "      <td>1</td>\n",
       "      <td>0.1426</td>\n",
       "      <td>102.92</td>\n",
       "      <td>11.299732</td>\n",
       "      <td>14.97</td>\n",
       "      <td>667</td>\n",
       "      <td>4066.000000</td>\n",
       "      <td>4740</td>\n",
       "      <td>39.5</td>\n",
       "      <td>0</td>\n",
       "      <td>1</td>\n",
       "      <td>0</td>\n",
       "      <td>0</td>\n",
       "      <td>0</td>\n",
       "      <td>1</td>\n",
       "      <td>0</td>\n",
       "      <td>0</td>\n",
       "      <td>0</td>\n",
       "      <td>0</td>\n",
       "      <td>0</td>\n",
       "    </tr>\n",
       "  </tbody>\n",
       "</table>\n",
       "</div>"
      ],
      "text/plain": [
       "   credit.policy  int.rate  installment  log.annual.inc    dti  fico  \\\n",
       "0              1    0.1189       829.10       11.350407  19.48   737   \n",
       "1              1    0.1071       228.22       11.082143  14.29   707   \n",
       "2              1    0.1357       366.86       10.373491  11.63   682   \n",
       "3              1    0.1008       162.34       11.350407   8.10   712   \n",
       "4              1    0.1426       102.92       11.299732  14.97   667   \n",
       "\n",
       "   days.with.cr.line  revol.bal  revol.util  inq.last.6mths  delinq.2yrs  \\\n",
       "0        5639.958333      28854        52.1               0            0   \n",
       "1        2760.000000      33623        76.7               0            0   \n",
       "2        4710.000000       3511        25.6               1            0   \n",
       "3        2699.958333      33667        73.2               1            0   \n",
       "4        4066.000000       4740        39.5               0            1   \n",
       "\n",
       "   pub.rec  not.fully.paid  purpose_all_other  purpose_credit_card  \\\n",
       "0        0               0                  0                    0   \n",
       "1        0               0                  0                    1   \n",
       "2        0               0                  0                    0   \n",
       "3        0               0                  0                    0   \n",
       "4        0               0                  0                    1   \n",
       "\n",
       "   purpose_debt_consolidation  purpose_educational  purpose_home_improvement  \\\n",
       "0                           1                    0                         0   \n",
       "1                           0                    0                         0   \n",
       "2                           1                    0                         0   \n",
       "3                           1                    0                         0   \n",
       "4                           0                    0                         0   \n",
       "\n",
       "   purpose_major_purchase  purpose_small_business  \n",
       "0                       0                       0  \n",
       "1                       0                       0  \n",
       "2                       0                       0  \n",
       "3                       0                       0  \n",
       "4                       0                       0  "
      ]
     },
     "execution_count": 30,
     "metadata": {},
     "output_type": "execute_result"
    }
   ],
   "source": [
    "#mengubah data purpose menjadi kategorikal\n",
    "#dengan menggunakan get_dummies\n",
    "final_data = pd.get_dummies(df)\n",
    "final_data.head()"
   ]
  },
  {
   "cell_type": "code",
   "execution_count": 31,
   "metadata": {},
   "outputs": [
    {
     "data": {
      "text/plain": [
       "credit.policy                   int64\n",
       "int.rate                      float64\n",
       "installment                   float64\n",
       "log.annual.inc                float64\n",
       "dti                           float64\n",
       "fico                            int64\n",
       "days.with.cr.line             float64\n",
       "revol.bal                       int64\n",
       "revol.util                    float64\n",
       "inq.last.6mths                  int64\n",
       "delinq.2yrs                     int64\n",
       "pub.rec                         int64\n",
       "not.fully.paid                  int64\n",
       "purpose_all_other               uint8\n",
       "purpose_credit_card             uint8\n",
       "purpose_debt_consolidation      uint8\n",
       "purpose_educational             uint8\n",
       "purpose_home_improvement        uint8\n",
       "purpose_major_purchase          uint8\n",
       "purpose_small_business          uint8\n",
       "dtype: object"
      ]
     },
     "execution_count": 31,
     "metadata": {},
     "output_type": "execute_result"
    }
   ],
   "source": [
    "#checking lagi\n",
    "#data sudah numerikal semua\n",
    "final_data.dtypes"
   ]
  },
  {
   "cell_type": "markdown",
   "metadata": {},
   "source": [
    "# 16. Split final_data yang didapatkan dari soal sebelumnya menjadi data train dan data test. Proporsi data test adalah 0.30. Gunakan random_state = 101."
   ]
  },
  {
   "cell_type": "code",
   "execution_count": 32,
   "metadata": {},
   "outputs": [],
   "source": [
    "from sklearn.model_selection import train_test_split"
   ]
  },
  {
   "cell_type": "code",
   "execution_count": 33,
   "metadata": {},
   "outputs": [],
   "source": [
    "x = final_data.drop(columns=['not.fully.paid'])\n",
    "y = final_data['not.fully.paid']"
   ]
  },
  {
   "cell_type": "code",
   "execution_count": 34,
   "metadata": {},
   "outputs": [],
   "source": [
    "x_train, x_test, y_train, y_test = train_test_split(x, y, test_size=0.3, random_state=101)"
   ]
  },
  {
   "cell_type": "code",
   "execution_count": 35,
   "metadata": {},
   "outputs": [
    {
     "name": "stdout",
     "output_type": "stream",
     "text": [
      "(6704, 19)\n",
      "(6704,)\n",
      "(2874, 19)\n",
      "(2874,)\n"
     ]
    }
   ],
   "source": [
    "print(x_train.shape)\n",
    "print(y_train.shape)\n",
    "print(x_test.shape)\n",
    "print(y_test.shape)"
   ]
  },
  {
   "cell_type": "markdown",
   "metadata": {},
   "source": [
    "# 17. Buatlah sebuah instance DecisionTreeClassifier yang disebut ‘dtree’ dan buatlah model dari training data menggunakan dtree tersebut."
   ]
  },
  {
   "cell_type": "code",
   "execution_count": 36,
   "metadata": {},
   "outputs": [],
   "source": [
    "dtree= DecisionTreeClassifier()"
   ]
  },
  {
   "cell_type": "code",
   "execution_count": 37,
   "metadata": {
    "scrolled": true
   },
   "outputs": [
    {
     "data": {
      "text/plain": [
       "DecisionTreeClassifier(class_weight=None, criterion='gini', max_depth=None,\n",
       "                       max_features=None, max_leaf_nodes=None,\n",
       "                       min_impurity_decrease=0.0, min_impurity_split=None,\n",
       "                       min_samples_leaf=1, min_samples_split=2,\n",
       "                       min_weight_fraction_leaf=0.0, presort=False,\n",
       "                       random_state=None, splitter='best')"
      ]
     },
     "execution_count": 37,
     "metadata": {},
     "output_type": "execute_result"
    }
   ],
   "source": [
    "dtree.fit(x_train, y_train)"
   ]
  },
  {
   "cell_type": "markdown",
   "metadata": {},
   "source": [
    "# 18. Buatlah script untuk meprediksi target pada data test dengan menggunakan model yang telah dibuat sebelumnya, simpan dalam variable ‘predictions’"
   ]
  },
  {
   "cell_type": "code",
   "execution_count": 38,
   "metadata": {},
   "outputs": [],
   "source": [
    "predictions = dtree.predict(x_test)"
   ]
  },
  {
   "cell_type": "markdown",
   "metadata": {},
   "source": [
    "# 19. Tampilkan confusion matrix antara hasil prediksi dan target data test."
   ]
  },
  {
   "cell_type": "code",
   "execution_count": 42,
   "metadata": {},
   "outputs": [],
   "source": [
    "from sklearn.metrics import confusion_matrix, accuracy_score, precision_score, recall_score, classification_report, precision_recall_curve"
   ]
  },
  {
   "cell_type": "code",
   "execution_count": 40,
   "metadata": {},
   "outputs": [
    {
     "name": "stdout",
     "output_type": "stream",
     "text": [
      "[[1964  326]\n",
      " [ 467  117]]\n"
     ]
    }
   ],
   "source": [
    "print(confusion_matrix(predictions, y_test))"
   ]
  },
  {
   "cell_type": "markdown",
   "metadata": {},
   "source": [
    "# 20. Tampilkan ukuran kebaikan model, setidaknya nilai Akurasi, Sensitivity dan Specificity."
   ]
  },
  {
   "cell_type": "code",
   "execution_count": 43,
   "metadata": {},
   "outputs": [],
   "source": [
    "#lgbm stack\n",
    "y_scores = dtree.predict_proba(x_test)[:,1]\n",
    "\n",
    "precision, recall, threshold = precision_recall_curve(y_test, y_scores)"
   ]
  },
  {
   "cell_type": "code",
   "execution_count": 44,
   "metadata": {
    "scrolled": false
   },
   "outputs": [
    {
     "data": {
      "image/png": "[encoded data removed]",
      "text/plain": [
       "<Figure size 1008x504 with 1 Axes>"
      ]
     },
     "metadata": {
      "needs_background": "light"
     },
     "output_type": "display_data"
    }
   ],
   "source": [
    "def plot_precision_and_recall(precision, recall, threshold):\n",
    "    plt.plot(threshold, precision[:-1], \"r-\", label=\"precision\", linewidth=5)\n",
    "    plt.plot(threshold, recall[:-1], \"b\", label=\"recall\", linewidth=5)\n",
    "    plt.xlabel(\"threshold\", fontsize=19)\n",
    "    plt.legend(loc=\"upper right\", fontsize=19)\n",
    "    plt.ylim([0, 1])\n",
    "    plt.title('Decision Tree Precision vs Recall')\n",
    "\n",
    "plt.figure(figsize=(14, 7))\n",
    "plot_precision_and_recall(precision, recall, threshold)\n",
    "plt.show()"
   ]
  },
  {
   "cell_type": "markdown",
   "metadata": {},
   "source": [
    "- Dari grafik precision vs recall bisa dilihat bahwa berapapun thresholdnya nilai precision akan tetap dikisaran 0.2"
   ]
  },
  {
   "cell_type": "code",
   "execution_count": 41,
   "metadata": {},
   "outputs": [
    {
     "name": "stdout",
     "output_type": "stream",
     "text": [
      "              precision    recall  f1-score   support\n",
      "\n",
      "           0       0.81      0.86      0.83      2290\n",
      "           1       0.26      0.20      0.23       584\n",
      "\n",
      "    accuracy                           0.72      2874\n",
      "   macro avg       0.54      0.53      0.53      2874\n",
      "weighted avg       0.70      0.72      0.71      2874\n",
      "\n"
     ]
    }
   ],
   "source": [
    "print(classification_report(predictions, y_test))"
   ]
  },
  {
   "cell_type": "markdown",
   "metadata": {},
   "source": [
    "- Dari classification report diatas dapat diambil kesimpunlan bahwa sensitivity sebesar 0.86 dan specificity sebesar 0.19"
   ]
  }
 ],
 "metadata": {
  "kernelspec": {
   "display_name": "Python 3",
   "language": "python",
   "name": "python3"
  },
  "language_info": {
   "codemirror_mode": {
    "name": "ipython",
    "version": 3
   },
   "file_extension": ".py",
   "mimetype": "text/x-python",
   "name": "python",
   "nbconvert_exporter": "python",
   "pygments_lexer": "ipython3",
   "version": "3.7.3"
  }
 },
 "nbformat": 4,
 "nbformat_minor": 2
}
